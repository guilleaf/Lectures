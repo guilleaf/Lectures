{
 "metadata": {
  "name": "P5EP 0. Introduction"
 },
 "nbformat": 3,
 "nbformat_minor": 0,
 "worksheets": [
  {
   "cells": [
    {
     "cell_type": "heading",
     "level": 1,
     "metadata": {},
     "source": [
      "Python in 5 Easy Pieces"
     ]
    },
    {
     "cell_type": "markdown",
     "metadata": {},
     "source": [
      "Guillermo Avendano-Franco (gufranco@mail.wvu.edu)"
     ]
    },
    {
     "cell_type": "markdown",
     "metadata": {},
     "source": [
      "This is a set of lectures about Python for Scientific Computing. These lectures are presented for those who attended the Virtual School of Computational Science and Engineering [VSCSE](http://www.vscse.org/) at [West Virginia University](http://www.wvu.edu).\n",
      "From June 16 to 20 of 2014 and From June 30 to July 2 of 2014\n",
      "\n",
      "The other lectures are accesible using the IPython Notebook Viewer and ther are located on my GitHub account\n",
      "\n",
      "[Python in 5 Easy Pieces](http://nbviewer.ipython.org/github/guilleaf/Lectures/tree/master/Python_in_5_Easy_Pieces)"
     ]
    },
    {
     "cell_type": "code",
     "collapsed": false,
     "input": [
      "%pylab inline"
     ],
     "language": "python",
     "metadata": {},
     "outputs": [
      {
       "output_type": "stream",
       "stream": "stdout",
       "text": [
        "\n",
        "Welcome to pylab, a matplotlib-based Python environment [backend: module://IPython.zmq.pylab.backend_inline].\n",
        "For more information, type 'help(pylab)'.\n"
       ]
      }
     ],
     "prompt_number": 1
    },
    {
     "cell_type": "heading",
     "level": 1,
     "metadata": {},
     "source": [
      "Installing a Python environment for Scientific Python Computing"
     ]
    },
    {
     "cell_type": "markdown",
     "metadata": {},
     "source": [
      "Before actually starting with the tutorials I will suggest several ways to follow them on your own laptop computer. These are your alternatives acording with the Operating System that you are currently using on your machine"
     ]
    },
    {
     "cell_type": "heading",
     "level": 3,
     "metadata": {},
     "source": [
      "Windows User"
     ]
    },
    {
     "cell_type": "markdown",
     "metadata": {},
     "source": [
      "If you are a windows user, you have several alternatives today:\n",
      "\n",
      "<br>\n",
      "\n",
      "#### Installing Canopy\n",
      "\n",
      "   Installing a fairly complete python environment such as [Enthought Canopy](https://www.enthought.com/products/canopy/compare-subscriptions/).\n",
      "   Windows users will have to download around 250 MB and install the software on their own machine.\n",
      "   Enthought Canopy includes all the packages needed to follow this session an most of the next session.\n",
      "\n",
      "<br>\n",
      "\n",
      "#### Using Linux\n",
      "\n",
      "   Use a Linux Live-DVD, put the DVD on your machine and reboot the machine using the DVD. Nothing of your system will be changed, if you are lucky and Linux can detect\n",
      "   your network device, you can connect to internet and follow the tutorials using the IPython notebook present on the live DVD.\n",
      "   Once you finish working with the Live-DVD, remember to save anything to an external USB, otherwise eveything you did during the session will be lost."
     ]
    },
    {
     "cell_type": "heading",
     "level": 3,
     "metadata": {},
     "source": [
      "Mac OsX User"
     ]
    },
    {
     "cell_type": "markdown",
     "metadata": {},
     "source": [
      "Mac users have also several options to actively follow the tutorials:\n",
      "\n",
      "<br>\n",
      "\n",
      "#### Installing Canopy\n",
      "[Enthought Canopy](https://www.enthought.com/products/canopy/compare-subscriptions/) is also available for Mac users. It is a _dmg_ disk image, it should be very easy to install.\n",
      "\n",
      "#### Installing using MacPorts\n",
      "If you are confident you a Unix-like environment, this is probably also a good option for you. You should already have installed MacPorts on you Mac otherwise you will no have time to do it during the session.\n",
      "You need to install Python (Version 2.7.x is just fine) and a few other packages such as:\n",
      "\n",
      "* numpy\n",
      "* scipy\n",
      "* matplotlib\n",
      "* ipython (Be sure to add the variants _notebook_ and _parallel_)\n",
      "* pandas\n",
      "* mayavi (If you are brave enough! )"
     ]
    },
    {
     "cell_type": "heading",
     "level": 3,
     "metadata": {},
     "source": [
      "Linux Users"
     ]
    },
    {
     "cell_type": "markdown",
     "metadata": {},
     "source": [
      "For Linux users, I do not need to say much... Just go and install python, ipython, numpy, scipy, pandas and mayavi.\n",
      "Just do it now, you will have everything in place in just a few minutes."
     ]
    },
    {
     "cell_type": "heading",
     "level": 3,
     "metadata": {},
     "source": [
      "I do not want to install anything on my laptop (and I do not want to use a Live-DVD)"
     ]
    },
    {
     "cell_type": "markdown",
     "metadata": {},
     "source": [
      "Ok, you can follow passively this tutorials using the [IPython Notebook Viewer](http://nbviewer.ipython.org), a simple way to visualize IPython Notebooks using your web browser your internet connection."
     ]
    },
    {
     "cell_type": "heading",
     "level": 2,
     "metadata": {},
     "source": [
      "A little bit of motivational Python propaganda."
     ]
    },
    {
     "cell_type": "markdown",
     "metadata": {},
     "source": [
      "Just to give some time to install Python on you laptop or lauching the Live-DVD, you can multi-thread your brain to listen some basics of Python and demystified some beliefs about scripting languages."
     ]
    },
    {
     "cell_type": "heading",
     "level": 3,
     "metadata": {},
     "source": [
      "What is Python?"
     ]
    },
    {
     "cell_type": "markdown",
     "metadata": {},
     "source": [
      "> [Python](http://www.python.org/) Python is a multiparadigm, general-purpose, interpreted, high-level programming language. \n",
      "> Python allows programmers to use different programming styles to create simple or complex programs, get quicker results and write code almost as if speaking in a human language. \n",
      "> Some of the popular systems and applications that have employed Python during development include Google Search, YouTube, BitTorrent, Google App Engine, Eve Online, Maya and iRobot machines.\n",
      ">> [_from Technopedia_](http://www.techopedia.com/definition/3533/python)\n",
      "\n",
      "\n",
      "Key characteristics of Python:\n",
      "\n",
      "* **clean and simple language:** (KISS principle) Easy-to-read and intuitive code, minimalistic syntax, scales well with projects.\n",
      "* **expressive language:** Fewer lines of code, fewer bugs, easier to maintain.\n",
      "* **multiparadigm:** Including object-oriented, imperative and functional programming or procedural styles. \n",
      "* **standard library:** Large and comprehensive set of functions that runs consistently where Python runs.\n",
      "\n",
      "Technical details:\n",
      "\n",
      "* **dynamically typed:** No need to define the type of variables, function arguments or return types.\n",
      "* **automatic memory management:** No need to explicitly allocate and deallocate memory for variables and data arrays (Like _malloc_ in C). \n",
      "* **interpreted:** No need to compile the code. The Python interpreter reads and executes the python code directly. \n",
      "\n",
      "Advantages:\n",
      "\n",
      "* The main advantage is ease of programming, minimizing the time required to develop, debug and maintain the code.\n",
      "* Well designed language that encourage many good programming practices:\n",
      "* Modular and object-oriented programming, good system for packaging and re-use of code. This often results in more transparent, maintainable and bug-free code.\n",
      "* Documentation tightly integrated with the code (Documentation is usually ).\n",
      "* A large standard library, and a large collection of add-on packages.\n",
      "\n",
      "Disadvantages:\n",
      "\n",
      "* Since Python is an interpreted and dynamically typed programming language, the execution of python code can be slow compared to compiled statically typed programming languages, such as C and Fortran. \n",
      "* Lacks an standard GUI, there are several.\n",
      "* There are two versions currently in use the latest to date (June 2014) are 2.7.7 and 3.4.1. This could be confusing to new users trying to decide wich version they should learn"
     ]
    },
    {
     "cell_type": "heading",
     "level": 3,
     "metadata": {},
     "source": [
      "Scripting languages are inefficient, I could do better programming in Fortran, C, or assembler!"
     ]
    },
    {
     "cell_type": "markdown",
     "metadata": {},
     "source": [
      "Ok, what exactly you want to optimize? The time that your code is running on the machine or the time you need to write the code that you need to get your results?\n",
      "If you devote too much time hard programming in a language like C or Fortran, probably someone else will do it faster, the code could run slower but she/he will get\n",
      "the results sooner, like publish first and will receive a new grant to hire more people for her/his group.\n",
      "\n",
      "Now, what its efficiency?\n",
      "\n"
     ]
    },
    {
     "cell_type": "markdown",
     "metadata": {},
     "source": [
      "<img src=\"https://raw.github.com/jrjohansson/scientific-python-lectures/master/images/optimizing-what.png\" width=\"600\">\n",
      "\n",
      "([from Johansson's Scientific Python Lectures](http://jrjohansson.github.io/) )\n",
      "\n",
      "That is the reason why Python has a strong position in scientific computing.\n",
      "It is an open language (no license costs, you can use your research budget for buying more machines)\n",
      "\n",
      "One important reason why Python is so popular is the set of scientific libraries and environments,\n",
      "among them:\n",
      "\n",
      "* **numpy:**\n",
      "\n",
      "[ http://numpy.scipy.org](http://numpy.scipy.org) - Numerical Python, operations with arrays mostly\n",
      "\n",
      "* **scipy:**\n",
      "\n",
      "[http://www.scipy.org](http://www.scipy.org) -  Scientific Python, advanced linear algebra, FFTs\n",
      "This library uses blas, altas blas, lapack, arpack, Intel MKL internally for performance\n",
      "\n",
      "* **matplotlib:**\n",
      "\n",
      "[http://www.matplotlib.org](http://www.matplotlib.org) - Plotting library (Mostly 2D)\n",
      "\n",
      "* **pandas:** \n",
      "\n",
      "[http://pandas.pydata.org](http://pandas.pydata.org/) - data analysis\n",
      "\n",
      "* **sympy:**\n",
      "\n",
      "[http://sympy.org](http://sympy.org/en/index.html) Symbolic math. Computer algebra system (CAS)\n",
      "\n",
      "* **IPython:**\n",
      "\n",
      "[http://ipython.org/](http://ipython.org) Interactive computing\n"
     ]
    },
    {
     "cell_type": "heading",
     "level": 3,
     "metadata": {},
     "source": [
      "Python is also good support HPC"
     ]
    },
    {
     "cell_type": "markdown",
     "metadata": {},
     "source": [
      "Python is able to use:\n",
      "\n",
      "    * Parallel processing with processes and threads\n",
      "    * Interprocess communication (MPI)\n",
      "    * GPU computing (OpenCL and CUDA)"
     ]
    },
    {
     "cell_type": "heading",
     "level": 3,
     "metadata": {},
     "source": [
      "Programmer or Scripter"
     ]
    },
    {
     "cell_type": "markdown",
     "metadata": {},
     "source": [
      "You do not need to be a Python Programmer to actually used and take advantage of Python for your own research.\n",
      "Have you ever found doing the same operation in a computer over and over again, simply because you do not know how to do it differently.\n",
      "\n",
      "Scripts are not bad programs, they are simply quick and dirt, pieces of code that help you save your brain to better purposes.\n",
      "They are dirty because, typically they are not commented, they are not actively maintain, no unitary tests, no continuous integration,\n",
      "no test-farms, nothing of such things that world-class software usually has.\n",
      "\n",
      "For programs, there are those who write programs, integrated pieces of code that are intended to be used independently. There are also those\n",
      "who write libraries, set of functions, classes, routines, methods, as you prefer to call them. Those are the building blocks of larger structures, \n",
      "such as programs or other libraries.\n",
      "\n",
      "As a scientist that uses computing to pursue your research, you could be doing scripts, doing programs or doing libraries. There is nothing\n",
      "pejorative in doing scripts, and there is nothing derogatory in using scripting languages. The important is the science, get the job done and\n",
      "move forward.\n"
     ]
    },
    {
     "cell_type": "heading",
     "level": 3,
     "metadata": {},
     "source": [
      "You should be ready now!"
     ]
    },
    {
     "cell_type": "markdown",
     "metadata": {},
     "source": [
      "I assume that you have now running Ipython Notebook or you will continue to see this presentation using your browser, in any case I hope you will enjoy this time experiment a different way of doing scientific computing."
     ]
    },
    {
     "cell_type": "heading",
     "level": 2,
     "metadata": {},
     "source": [
      "Testing your Python Environment"
     ]
    },
    {
     "cell_type": "markdown",
     "metadata": {},
     "source": [
      "We will now exploring a little bit about how things work in python. The purpose of this section is two-fold, give you a quick overview of the kind of things that you can do with Python allow to test if everthing works for you, in particular the external libraries that could still not be present in your system."
     ]
    },
    {
     "cell_type": "markdown",
     "metadata": {},
     "source": [
      "The most basic thing you can do is use the Python interpreter as a calculator, test for example:"
     ]
    },
    {
     "cell_type": "heading",
     "level": 4,
     "metadata": {},
     "source": [
      "Python"
     ]
    },
    {
     "cell_type": "code",
     "collapsed": false,
     "input": [
      "31*7 + 30*4 + 28"
     ],
     "language": "python",
     "metadata": {},
     "outputs": [
      {
       "output_type": "pyout",
       "prompt_number": 2,
       "text": [
        "365"
       ]
      }
     ],
     "prompt_number": 2
    },
    {
     "cell_type": "markdown",
     "metadata": {},
     "source": [
      "Old calculators use to fail with this:"
     ]
    },
    {
     "cell_type": "code",
     "collapsed": false,
     "input": [
      "import math\n",
      "math.factorial(70)"
     ],
     "language": "python",
     "metadata": {},
     "outputs": [
      {
       "output_type": "pyout",
       "prompt_number": 3,
       "text": [
        "11978571669969891796072783721689098736458938142546425857555362864628009582789845319680000000000000000L"
       ]
      }
     ],
     "prompt_number": 3
    },
    {
     "cell_type": "code",
     "collapsed": false,
     "input": [
      "float(math.factorial(70))"
     ],
     "language": "python",
     "metadata": {},
     "outputs": [
      {
       "output_type": "pyout",
       "prompt_number": 4,
       "text": [
        "1.1978571669969892e+100"
       ]
      }
     ],
     "prompt_number": 4
    },
    {
     "cell_type": "markdown",
     "metadata": {},
     "source": [
      "This is called list comprehension, we will see about them later on. I search for a very obfuscating case indeed!"
     ]
    },
    {
     "cell_type": "code",
     "collapsed": false,
     "input": [
      "n = 100 \n",
      "primes = [prime for prime in range(2, n) if prime not in [noprimes for i in range(2, int(n**0.5)) for noprimes in range(i * 2, n, i)]]\n",
      "print primes"
     ],
     "language": "python",
     "metadata": {},
     "outputs": [
      {
       "output_type": "stream",
       "stream": "stdout",
       "text": [
        "[2, 3, 5, 7, 11, 13, 17, 19, 23, 29, 31, 37, 41, 43, 47, 53, 59, 61, 67, 71, 73, 79, 83, 89, 97]\n"
       ]
      }
     ],
     "prompt_number": 5
    },
    {
     "cell_type": "markdown",
     "metadata": {},
     "source": [
      "You can know wich version of Python you are using"
     ]
    },
    {
     "cell_type": "code",
     "collapsed": false,
     "input": [
      "import sys\n",
      "sys.version"
     ],
     "language": "python",
     "metadata": {},
     "outputs": [
      {
       "output_type": "pyout",
       "prompt_number": 6,
       "text": [
        "'2.7.5+ (default, Feb 27 2014, 19:37:08) \\n[GCC 4.8.1]'"
       ]
      }
     ],
     "prompt_number": 6
    },
    {
     "cell_type": "heading",
     "level": 4,
     "metadata": {},
     "source": [
      "Numpy"
     ]
    },
    {
     "cell_type": "markdown",
     "metadata": {},
     "source": [
      "Now we will test if numpy is working on your system"
     ]
    },
    {
     "cell_type": "code",
     "collapsed": false,
     "input": [
      "import numpy as np"
     ],
     "language": "python",
     "metadata": {},
     "outputs": [],
     "prompt_number": 7
    },
    {
     "cell_type": "markdown",
     "metadata": {},
     "source": [
      "If you get an error in the previous input, numpy is not installed on your system. The next inputs will fail also"
     ]
    },
    {
     "cell_type": "markdown",
     "metadata": {},
     "source": [
      "Those are the Pauli matrices:"
     ]
    },
    {
     "cell_type": "code",
     "collapsed": false,
     "input": [
      "sigmax=np.array([ [0, 1], [1, 0] ], dtype=complex)\n",
      "sigmax"
     ],
     "language": "python",
     "metadata": {},
     "outputs": [
      {
       "output_type": "pyout",
       "prompt_number": 8,
       "text": [
        "array([[ 0.+0.j,  1.+0.j],\n",
        "       [ 1.+0.j,  0.+0.j]])"
       ]
      }
     ],
     "prompt_number": 8
    },
    {
     "cell_type": "code",
     "collapsed": false,
     "input": [
      "sigmay=np.array([ [0, -1j], [1j, 0] ], dtype=complex)\n",
      "sigmay"
     ],
     "language": "python",
     "metadata": {},
     "outputs": [
      {
       "output_type": "pyout",
       "prompt_number": 9,
       "text": [
        "array([[ 0.+0.j,  0.-1.j],\n",
        "       [ 0.+1.j,  0.+0.j]])"
       ]
      }
     ],
     "prompt_number": 9
    },
    {
     "cell_type": "code",
     "collapsed": false,
     "input": [
      "sigmaz=np.array([ [1, 0], [0, -1] ], dtype=complex)\n",
      "sigmaz"
     ],
     "language": "python",
     "metadata": {},
     "outputs": [
      {
       "output_type": "pyout",
       "prompt_number": 10,
       "text": [
        "array([[ 1.+0.j,  0.+0.j],\n",
        "       [ 0.+0.j, -1.+0.j]])"
       ]
      }
     ],
     "prompt_number": 10
    },
    {
     "cell_type": "markdown",
     "metadata": {},
     "source": [
      "This shows the involutary property of Pauli matrices"
     ]
    },
    {
     "cell_type": "code",
     "collapsed": false,
     "input": [
      "-1j* np.dot( sigmax, np.dot(sigmay, sigmaz))"
     ],
     "language": "python",
     "metadata": {},
     "outputs": [
      {
       "output_type": "pyout",
       "prompt_number": 11,
       "text": [
        "array([[ 1.+0.j,  0.+0.j],\n",
        "       [ 0.+0.j,  1.+0.j]])"
       ]
      }
     ],
     "prompt_number": 11
    },
    {
     "cell_type": "markdown",
     "metadata": {},
     "source": [
      "This shows how to produce the Identity matrix with complex entries"
     ]
    },
    {
     "cell_type": "code",
     "collapsed": false,
     "input": [
      "np.eye(2, dtype=complex)"
     ],
     "language": "python",
     "metadata": {},
     "outputs": [
      {
       "output_type": "pyout",
       "prompt_number": 12,
       "text": [
        "array([[ 1.+0.j,  0.+0.j],\n",
        "       [ 0.+0.j,  1.+0.j]])"
       ]
      }
     ],
     "prompt_number": 12
    },
    {
     "cell_type": "markdown",
     "metadata": {},
     "source": [
      "These are the rotation matrices in $\\mathbb{R}^3$"
     ]
    },
    {
     "cell_type": "code",
     "collapsed": false,
     "input": [
      "from math import cos, sin, radians\n",
      "def Rotation(alpha, beta, gamma):\n",
      "    a=radians(alpha)\n",
      "    b=radians(beta)\n",
      "    c=radians(gamma)\n",
      "    Rx=np.array([[1, 0, 0],[0, cos(a), -sin(a)],[0, sin(a), cos(a)]])\n",
      "    Ry=np.array([[cos(b),0,sin(beta)],[0, 1, 0],[-sin(b), 0, cos(b)]])\n",
      "    Rz=np.array([[cos(c), -sin(c), 0],[sin(c), cos(c), 0],[0, 0, 1]])\n",
      "    return Rx, Ry, Rz"
     ],
     "language": "python",
     "metadata": {},
     "outputs": [],
     "prompt_number": 13
    },
    {
     "cell_type": "code",
     "collapsed": false,
     "input": [
      "np.set_printoptions(precision=3,suppress=True)\n",
      "Rotation(0,0,90)"
     ],
     "language": "python",
     "metadata": {},
     "outputs": [
      {
       "output_type": "pyout",
       "prompt_number": 14,
       "text": [
        "(array([[ 1.,  0.,  0.],\n",
        "       [ 0.,  1., -0.],\n",
        "       [ 0.,  0.,  1.]]),\n",
        " array([[ 1.,  0.,  0.],\n",
        "       [ 0.,  1.,  0.],\n",
        "       [-0.,  0.,  1.]]),\n",
        " array([[ 0., -1.,  0.],\n",
        "       [ 1.,  0.,  0.],\n",
        "       [ 0.,  0.,  1.]]))"
       ]
      }
     ],
     "prompt_number": 14
    },
    {
     "cell_type": "markdown",
     "metadata": {},
     "source": [
      "This shows that rotations form a group, the so call Special Orthogonal Group $SO(3)$"
     ]
    },
    {
     "cell_type": "code",
     "collapsed": false,
     "input": [
      "Rx,Ry,Rz=Rotation(45,45,0)\n",
      "print Rx\n",
      "print Ry\n",
      "print Rz"
     ],
     "language": "python",
     "metadata": {},
     "outputs": [
      {
       "output_type": "stream",
       "stream": "stdout",
       "text": [
        "[[ 1.     0.     0.   ]\n",
        " [ 0.     0.707 -0.707]\n",
        " [ 0.     0.707  0.707]]\n",
        "[[ 0.707  0.     0.851]\n",
        " [ 0.     1.     0.   ]\n",
        " [-0.707  0.     0.707]]\n",
        "[[ 1. -0.  0.]\n",
        " [ 0.  1.  0.]\n",
        " [ 0.  0.  1.]]\n"
       ]
      }
     ],
     "prompt_number": 15
    },
    {
     "cell_type": "markdown",
     "metadata": {},
     "source": [
      "Notice that rotate 45 degrees about the y axis followed by a rotation of 45 degrees about the x axis does not produce the same matrix, or same rotation, that operating in the inverse order.\n",
      "Matrix multiplication and rotations do not conmute. The _np.dot()_ is used to multiply matrices."
     ]
    },
    {
     "cell_type": "code",
     "collapsed": false,
     "input": [
      "np.dot(Rx,Ry)"
     ],
     "language": "python",
     "metadata": {},
     "outputs": [
      {
       "output_type": "pyout",
       "prompt_number": 16,
       "text": [
        "array([[ 0.707,  0.   ,  0.851],\n",
        "       [ 0.5  ,  0.707, -0.5  ],\n",
        "       [-0.5  ,  0.707,  0.5  ]])"
       ]
      }
     ],
     "prompt_number": 16
    },
    {
     "cell_type": "code",
     "collapsed": false,
     "input": [
      "np.dot(Ry,Rx)"
     ],
     "language": "python",
     "metadata": {},
     "outputs": [
      {
       "output_type": "pyout",
       "prompt_number": 17,
       "text": [
        "array([[ 0.707,  0.602,  0.602],\n",
        "       [ 0.   ,  0.707, -0.707],\n",
        "       [-0.707,  0.5  ,  0.5  ]])"
       ]
      }
     ],
     "prompt_number": 17
    },
    {
     "cell_type": "heading",
     "level": 4,
     "metadata": {},
     "source": [
      "Scipy"
     ]
    },
    {
     "cell_type": "markdown",
     "metadata": {},
     "source": [
      "We start importing the Bessel function of the first kind of real order v: $J_v(\\rho)$. We also need to import the RBF class for radial basis function interpolation of n-dimensional scattered data."
     ]
    },
    {
     "cell_type": "code",
     "collapsed": false,
     "input": [
      "from scipy.interpolate import Rbf\n",
      "from scipy.special import jn\n",
      "from math import pi"
     ],
     "language": "python",
     "metadata": {},
     "outputs": [],
     "prompt_number": 18
    },
    {
     "cell_type": "markdown",
     "metadata": {},
     "source": [
      "Here we create our random sampling of data. The \"Sombrero\" function is defined as $2 J_1(\\pi \\rho)/(\\pi \\rho)$. This function is very used in optics and image processing. Lets try to see if the RBF algorithm is able to capture the small waves of the \"Sobrero\"."
     ]
    },
    {
     "cell_type": "code",
     "collapsed": false,
     "input": [
      "x = np.random.rand(100)*8.0-4.0\n",
      "y = np.random.rand(100)*8.0-4.0\n",
      "rho = np.sqrt(x**2 + y**2)\n",
      "z = 2 * jn(1,pi*rho)/(pi*rho)\n",
      "tx = np.linspace(-4.0, 4.0, 100)\n",
      "ty = np.linspace(-4.0, 4.0, 100)\n",
      "XI, YI = np.meshgrid(tx, ty)"
     ],
     "language": "python",
     "metadata": {},
     "outputs": [],
     "prompt_number": 19
    },
    {
     "cell_type": "markdown",
     "metadata": {},
     "source": [
      "Now, we have the sampled data and a mesh grid to work with. The class Rbf returns a callable that we use to fill the interpolated values in the ZI array"
     ]
    },
    {
     "cell_type": "code",
     "collapsed": false,
     "input": [
      "rbf = Rbf(x, y, z, epsilon=2)\n",
      "ZI = rbf(XI, YI)"
     ],
     "language": "python",
     "metadata": {},
     "outputs": [],
     "prompt_number": 20
    },
    {
     "cell_type": "markdown",
     "metadata": {},
     "source": [
      "We can used this interpolated data for visualization. Matplotlib is the standard \"de facto\" for plotting"
     ]
    },
    {
     "cell_type": "heading",
     "level": 4,
     "metadata": {},
     "source": [
      "Matplotlib"
     ]
    },
    {
     "cell_type": "code",
     "collapsed": false,
     "input": [
      "%pylab inline\n",
      "import matplotlib.pyplot as plt\n",
      "from matplotlib import cm"
     ],
     "language": "python",
     "metadata": {},
     "outputs": [
      {
       "output_type": "stream",
       "stream": "stdout",
       "text": [
        "\n",
        "Welcome to pylab, a matplotlib-based Python environment [backend: module://IPython.zmq.pylab.backend_inline].\n",
        "For more information, type 'help(pylab)'.\n"
       ]
      }
     ],
     "prompt_number": 21
    },
    {
     "cell_type": "markdown",
     "metadata": {},
     "source": [
      "Now plot the interpolated mesh"
     ]
    },
    {
     "cell_type": "code",
     "collapsed": false,
     "input": [
      "fig=plt.figure(figsize=(9, 8))\n",
      "#n = plt.normalize(-1., 1.)\n",
      "plt.subplot(1, 1, 1)\n",
      "plt.pcolor(XI, YI, ZI, cmap=cm.jet)\n",
      "plt.scatter(x, y, 20, z, cmap=cm.jet)\n",
      "plt.title('RBF interpolation - multiquadrics')\n",
      "plt.xlim(-4, 4)\n",
      "plt.ylim(-4, 4)\n",
      "plt.colorbar();"
     ],
     "language": "python",
     "metadata": {},
     "outputs": [
      {
       "output_type": "display_data",
       "png": "[encoded data removed]"
      }
     ],
     "prompt_number": 22
    },
    {
     "cell_type": "markdown",
     "metadata": {},
     "source": [
      "Notice that the Rbf algorithm was able to capture, even if not completely the first and second ring in the \"Sombrero\" function.\n",
      "We can try now to plot the surface of the function using also Matplotlib"
     ]
    },
    {
     "cell_type": "code",
     "collapsed": false,
     "input": [
      "from mpl_toolkits.mplot3d import Axes3D\n",
      "fig = plt.figure(figsize=(16,8))\n",
      "ax = fig.gca(projection='3d')\n",
      "surf = ax.plot_surface(XI, YI, ZI, rstride=1, cstride=1, cmap=cm.coolwarm,\n",
      "        linewidth=0, antialiased=False)\n",
      "\n",
      "ax.set_zlim(-1.01, 1.01)\n",
      "ax.zaxis.set_major_locator(LinearLocator(10))\n",
      "ax.zaxis.set_major_formatter(FormatStrFormatter('%.02f'))\n",
      "\n",
      "fig.colorbar(surf, shrink=0.5, aspect=5)\n",
      "\n",
      "plt.show()"
     ],
     "language": "python",
     "metadata": {},
     "outputs": [
      {
       "output_type": "display_data",
       "png": "[encoded data removed]"
      }
     ],
     "prompt_number": 23
    },
    {
     "cell_type": "heading",
     "level": 4,
     "metadata": {},
     "source": [
      "SymPy"
     ]
    },
    {
     "cell_type": "markdown",
     "metadata": {},
     "source": [
      "This is a library for symbolic math, different of most of the libraries presented untit now that are basically numeric. Lets do some simple examples to see how SymPy works.\n",
      "This is one of the libraries that you have not installed. If you are not really intrested in computer algebra, just move on to the next library. "
     ]
    },
    {
     "cell_type": "code",
     "collapsed": false,
     "input": [
      "%load_ext sympyprinting\n",
      "import sympy as sym"
     ],
     "language": "python",
     "metadata": {},
     "outputs": [
      {
       "output_type": "stream",
       "stream": "stderr",
       "text": [
        "/usr/lib/python2.7/dist-packages/IPython/extensions/sympyprinting.py:119: UserWarning: The sympyprinting extension in IPython is deprecated, use sympy.interactive.ipythonprinting\n",
        "  warnings.warn(\"The sympyprinting extension in IPython is deprecated, \"\n"
       ]
      }
     ],
     "prompt_number": 26
    },
    {
     "cell_type": "code",
     "collapsed": false,
     "input": [
      "sym.interactive.ipythonprinting"
     ],
     "language": "python",
     "metadata": {},
     "outputs": [
      {
       "output_type": "pyout",
       "prompt_number": 27,
       "text": [
        "<module 'sympy.interactive.ipythonprinting' from '/usr/lib/python2.7/dist-pack\n",
        "ages/sympy/interactive/ipythonprinting.pyc'>"
       ]
      }
     ],
     "prompt_number": 27
    },
    {
     "cell_type": "markdown",
     "metadata": {},
     "source": [
      "We will inform Sympy that treat 'x', 'y', 'z' and 't' as symbols. "
     ]
    },
    {
     "cell_type": "code",
     "collapsed": false,
     "input": [
      "x, y, z, t = sym.symbols('x y z t')"
     ],
     "language": "python",
     "metadata": {},
     "outputs": [],
     "prompt_number": 28
    },
    {
     "cell_type": "markdown",
     "metadata": {},
     "source": [
      "Equality is given by the function Eq, not by '=' (or ':=')"
     ]
    },
    {
     "cell_type": "code",
     "collapsed": false,
     "input": [
      "sym.Eq(x,y)"
     ],
     "language": "python",
     "metadata": {},
     "outputs": [
      {
       "latex": [
        "$$x = y$$"
       ],
       "output_type": "pyout",
       "png": "[encoded data removed]",
       "prompt_number": 29,
       "text": [
        "x = y"
       ]
      }
     ],
     "prompt_number": 29
    },
    {
     "cell_type": "markdown",
     "metadata": {},
     "source": [
      "The imaginary unit is I, not 1j like use to be in Python "
     ]
    },
    {
     "cell_type": "code",
     "collapsed": false,
     "input": [
      "sym.Rational(3,2)*pi + sym.exp(sym.I*x) / (x**2 + y)"
     ],
     "language": "python",
     "metadata": {},
     "outputs": [
      {
       "latex": [
        "$$4.71238898038469 + \\frac{e^{\\mathbf{\\imath} x}}{x^{2} + y}$$"
       ],
       "output_type": "pyout",
       "png": "[encoded data removed]",
       "prompt_number": 30,
       "text": [
        "                     \u2148\u22c5x \n",
        "                    \u212f    \n",
        "4.71238898038469 + \u2500\u2500\u2500\u2500\u2500\u2500\n",
        "                    2    \n",
        "                   x  + y"
       ]
      }
     ],
     "prompt_number": 30
    },
    {
     "cell_type": "code",
     "collapsed": false,
     "input": [
      "eq = ((x+y)**3 * (x+1))\n",
      "eq"
     ],
     "language": "python",
     "metadata": {},
     "outputs": [
      {
       "latex": [
        "$$\\left(x + 1\\right) \\left(x + y\\right)^{3}$$"
       ],
       "output_type": "pyout",
       "png": "[encoded data removed]",
       "prompt_number": 31,
       "text": [
        "               3\n",
        "(x + 1)\u22c5(x + y) "
       ]
      }
     ],
     "prompt_number": 31
    },
    {
     "cell_type": "code",
     "collapsed": false,
     "input": [
      "sym.expand(eq)"
     ],
     "language": "python",
     "metadata": {},
     "outputs": [
      {
       "latex": [
        "$$x^{4} + 3 x^{3} y + x^{3} + 3 x^{2} y^{2} + 3 x^{2} y + x y^{3} + 3 x y^{2} + y^{3}$$"
       ],
       "output_type": "pyout",
       "png": "[encoded data removed]",
       "prompt_number": 32,
       "text": [
        " 4      3      3      2  2      2        3        2    3\n",
        "x  + 3\u22c5x \u22c5y + x  + 3\u22c5x \u22c5y  + 3\u22c5x \u22c5y + x\u22c5y  + 3\u22c5x\u22c5y  + y "
       ]
      }
     ],
     "prompt_number": 32
    },
    {
     "cell_type": "markdown",
     "metadata": {},
     "source": [
      "Lets try to solve a differential equation, we start defing two symbols that are actually functions"
     ]
    },
    {
     "cell_type": "code",
     "collapsed": false,
     "input": [
      "f, g = sym.symbols('f g', cls=sym.Function)"
     ],
     "language": "python",
     "metadata": {},
     "outputs": [],
     "prompt_number": 33
    },
    {
     "cell_type": "markdown",
     "metadata": {},
     "source": [
      "Now a differential equation for $f(x)$ could be defined as: "
     ]
    },
    {
     "cell_type": "code",
     "collapsed": false,
     "input": [
      "diffeq = sym.Eq(f(x).diff(x, x) - 2*f(x).diff(x) + f(x), sym.sin(x))\n",
      "diffeq"
     ],
     "language": "python",
     "metadata": {},
     "outputs": [
      {
       "latex": [
        "$$\\operatorname{f}{\\left (x \\right )} - 2 \\frac{\\partial}{\\partial x} \\operatorname{f}{\\left (x \\right )} + \\frac{\\partial^{2}}{\\partial^{2} x}  \\operatorname{f}{\\left (x \\right )} = \\sin{\\left (x \\right )}$$"
       ],
       "output_type": "pyout",
       "png": "[encoded data removed]",
       "prompt_number": 34,
       "text": [
        "                      2               \n",
        "         d           d                \n",
        "f(x) - 2\u22c5\u2500\u2500(f(x)) + \u2500\u2500\u2500(f(x)) = sin(x)\n",
        "         dx           2               \n",
        "                    dx                "
       ]
      }
     ],
     "prompt_number": 34
    },
    {
     "cell_type": "code",
     "collapsed": false,
     "input": [
      "sym.dsolve(diffeq, f(x))"
     ],
     "language": "python",
     "metadata": {},
     "outputs": [
      {
       "latex": [
        "$$\\operatorname{f}{\\left (x \\right )} = \\left(C_{1} + C_{2} x\\right) e^{x} + \\frac{1}{2} \\cos{\\left (x \\right )}$$"
       ],
       "output_type": "pyout",
       "png": "[encoded data removed]",
       "prompt_number": 35,
       "text": [
        "                    x   cos(x)\n",
        "f(x) = (C\u2081 + C\u2082\u22c5x)\u22c5\u212f  + \u2500\u2500\u2500\u2500\u2500\u2500\n",
        "                          2   "
       ]
      }
     ],
     "prompt_number": 35
    },
    {
     "cell_type": "markdown",
     "metadata": {},
     "source": [
      "As expected, there are two arbitrary constants in the solution to the differential equation above"
     ]
    },
    {
     "cell_type": "heading",
     "level": 4,
     "metadata": {},
     "source": [
      "Pandas"
     ]
    },
    {
     "cell_type": "markdown",
     "metadata": {},
     "source": [
      "Pandas is the last library that we will test in for the introduction. Pandas is a library for Data Analysis, it is robust enough to suppport data from csv, "
     ]
    },
    {
     "cell_type": "code",
     "collapsed": false,
     "input": [
      "import pandas as pd"
     ],
     "language": "python",
     "metadata": {},
     "outputs": [],
     "prompt_number": 36
    },
    {
     "cell_type": "code",
     "collapsed": false,
     "input": [
      "education=pd.read_json('http://data.undp.org/resource/mvtz-nsye.json')"
     ],
     "language": "python",
     "metadata": {},
     "outputs": [],
     "prompt_number": 37
    },
    {
     "cell_type": "code",
     "collapsed": false,
     "input": [
      "education"
     ],
     "language": "python",
     "metadata": {},
     "outputs": [
      {
       "html": [
        "<pre>\n",
        "&lt;class 'pandas.core.frame.DataFrame'&gt;\n",
        "Int64Index: 208 entries, 0 to 207\n",
        "Data columns (total 21 columns):\n",
        "_2002_2011_gross_enrollement_ratio_primary                 201  non-null values\n",
        "_2002_2011_gross_enrollement_ratio_secondary               195  non-null values\n",
        "_2002_2011_gross_enrollement_ratio_tertiary                187  non-null values\n",
        "_2002_2011_primary_school_dropout_rate                     165  non-null values\n",
        "_2002_2011_primary_school_dropout_rate_note                1  non-null values\n",
        "_2005_2010_adult_literacy_rate                             156  non-null values\n",
        "_2005_2011_primary_school_teachers_trained_to_teach        106  non-null values\n",
        "_2009_mathematics_derivation_from_mean                     63  non-null values\n",
        "_2009_mathematics_mean_score                               63  non-null values\n",
        "_2009_reading_derivation_from_mean                         63  non-null values\n",
        "_2009_reading_mean_score                                   64  non-null values\n",
        "_2009_science_derivation_from_mean                         63  non-null values\n",
        "_2009_science_mean_score                                   63  non-null values\n",
        "_2010_population_with_at_least_secondary_education         168  non-null values\n",
        "_2010_population_with_at_least_secondary_education_note    69  non-null values\n",
        "_2011_satisfaction_with_education_quality                  155  non-null values\n",
        "_2011_satisfaction_with_education_quality_note             18  non-null values\n",
        "_2012_hdi_rank                                             187  non-null values\n",
        "country_code                                               195  non-null values\n",
        "name                                                       208  non-null values\n",
        "type                                                       208  non-null values\n",
        "dtypes: float64(15), object(6)\n",
        "</pre>"
       ],
       "output_type": "pyout",
       "prompt_number": 38,
       "text": [
        "                     <class 'pandas.core.frame.DataFrame'>                    \n",
        "                       Int64Index: 208 entries, 0 to 207                      \n",
        "                        Data columns (total 21 columns):                      \n",
        "_2002_2011_gross_enrollement_ratio_primary                 201  non-null value\n",
        "_2002_2011_gross_enrollement_ratio_secondary               195  non-null value\n",
        "_2002_2011_gross_enrollement_ratio_tertiary                187  non-null value\n",
        "_2002_2011_primary_school_dropout_rate                     165  non-null value\n",
        " _2002_2011_primary_school_dropout_rate_note                1  non-null values\n",
        "_2005_2010_adult_literacy_rate                             156  non-null value\n",
        "_2005_2011_primary_school_teachers_trained_to_teach        106  non-null value\n",
        " _2009_mathematics_derivation_from_mean                     63  non-null value\n",
        " _2009_mathematics_mean_score                               63  non-null value\n",
        " _2009_reading_derivation_from_mean                         63  non-null value\n",
        " _2009_reading_mean_score                                   64  non-null value\n",
        " _2009_science_derivation_from_mean                         63  non-null value\n",
        " _2009_science_mean_score                                   63  non-null value\n",
        "_2010_population_with_at_least_secondary_education         168  non-null value\n",
        " _2010_population_with_at_least_secondary_education_note    69  non-null value\n",
        "_2011_satisfaction_with_education_quality                  155  non-null value\n",
        " _2011_satisfaction_with_education_quality_note             18  non-null value\n",
        "_2012_hdi_rank                                             187  non-null value\n",
        "country_code                                               195  non-null value\n",
        "name                                                       208  non-null value\n",
        "type                                                       208  non-null value\n",
        "                         dtypes: float64(15), object(6)                       \n",
        "\n",
        " \n",
        " \n",
        " \n",
        "s\n",
        "s\n",
        "s\n",
        "s\n",
        " \n",
        "s\n",
        "s\n",
        "s\n",
        "s\n",
        "s\n",
        "s\n",
        "s\n",
        "s\n",
        "s\n",
        "s\n",
        "s\n",
        "s\n",
        "s\n",
        "s\n",
        "s\n",
        "s\n",
        " "
       ]
      }
     ],
     "prompt_number": 38
    },
    {
     "cell_type": "code",
     "collapsed": false,
     "input": [
      "education.dtypes"
     ],
     "language": "python",
     "metadata": {},
     "outputs": [
      {
       "output_type": "pyout",
       "prompt_number": 39,
       "text": [
        "_2002_2011_gross_enrollement_ratio_primary                 float64\n",
        "_2002_2011_gross_enrollement_ratio_secondary               float64\n",
        "_2002_2011_gross_enrollement_ratio_tertiary                float64\n",
        "_2002_2011_primary_school_dropout_rate                     float64\n",
        "_2002_2011_primary_school_dropout_rate_note                 object\n",
        "_2005_2010_adult_literacy_rate                             float64\n",
        "_2005_2011_primary_school_teachers_trained_to_teach        float64\n",
        "_2009_mathematics_derivation_from_mean                     float64\n",
        "_2009_mathematics_mean_score                               float64\n",
        "_2009_reading_derivation_from_mean                         float64\n",
        "_2009_reading_mean_score                                   float64\n",
        "_2009_science_derivation_from_mean                         float64\n",
        "_2009_science_mean_score                                   float64\n",
        "_2010_population_with_at_least_secondary_education         float64\n",
        "_2010_population_with_at_least_secondary_education_note     object\n",
        "_2011_satisfaction_with_education_quality                  float64\n",
        "_2011_satisfaction_with_education_quality_note              object\n",
        "_2012_hdi_rank                                             float64\n",
        "country_code                                                object\n",
        "name                                                        object\n",
        "type                                                        object\n",
        "                          dtype: object                           "
       ]
      }
     ],
     "prompt_number": 39
    },
    {
     "cell_type": "code",
     "collapsed": false,
     "input": [
      "education.describe()"
     ],
     "language": "python",
     "metadata": {},
     "outputs": [
      {
       "html": [
        "<div style=\"max-height:1000px;max-width:1500px;overflow:auto;\">\n",
        "<table border=\"1\" class=\"dataframe\">\n",
        "  <thead>\n",
        "    <tr style=\"text-align: right;\">\n",
        "      <th></th>\n",
        "      <th>_2002_2011_gross_enrollement_ratio_primary</th>\n",
        "      <th>_2002_2011_gross_enrollement_ratio_secondary</th>\n",
        "      <th>_2002_2011_gross_enrollement_ratio_tertiary</th>\n",
        "      <th>_2002_2011_primary_school_dropout_rate</th>\n",
        "      <th>_2005_2010_adult_literacy_rate</th>\n",
        "      <th>_2005_2011_primary_school_teachers_trained_to_teach</th>\n",
        "      <th>_2009_mathematics_derivation_from_mean</th>\n",
        "      <th>_2009_mathematics_mean_score</th>\n",
        "      <th>_2009_reading_derivation_from_mean</th>\n",
        "      <th>_2009_reading_mean_score</th>\n",
        "      <th>_2009_science_derivation_from_mean</th>\n",
        "      <th>_2009_science_mean_score</th>\n",
        "      <th>_2010_population_with_at_least_secondary_education</th>\n",
        "      <th>_2011_satisfaction_with_education_quality</th>\n",
        "      <th>_2012_hdi_rank</th>\n",
        "    </tr>\n",
        "  </thead>\n",
        "  <tbody>\n",
        "    <tr>\n",
        "      <th>count</th>\n",
        "      <td> 201.000000</td>\n",
        "      <td> 195.000000</td>\n",
        "      <td> 187.000000</td>\n",
        "      <td> 165.000000</td>\n",
        "      <td> 156.000000</td>\n",
        "      <td> 106.000000</td>\n",
        "      <td>  63.000000</td>\n",
        "      <td>  63.000000</td>\n",
        "      <td>  63.000000</td>\n",
        "      <td>  64.000000</td>\n",
        "      <td>  63.000000</td>\n",
        "      <td>  63.000000</td>\n",
        "      <td> 168.000000</td>\n",
        "      <td> 155.000000</td>\n",
        "      <td> 187.000000</td>\n",
        "    </tr>\n",
        "    <tr>\n",
        "      <th>mean</th>\n",
        "      <td> 104.652736</td>\n",
        "      <td>  77.392308</td>\n",
        "      <td>  32.256684</td>\n",
        "      <td>  17.710909</td>\n",
        "      <td>  82.219231</td>\n",
        "      <td>  81.249057</td>\n",
        "      <td>  89.428571</td>\n",
        "      <td> 465.507937</td>\n",
        "      <td>  92.603175</td>\n",
        "      <td> 464.687500</td>\n",
        "      <td>  91.587302</td>\n",
        "      <td> 470.269841</td>\n",
        "      <td>  56.088095</td>\n",
        "      <td>  61.332903</td>\n",
        "      <td>  93.786096</td>\n",
        "    </tr>\n",
        "    <tr>\n",
        "      <th>std</th>\n",
        "      <td>  15.397646</td>\n",
        "      <td>  26.755884</td>\n",
        "      <td>  26.243393</td>\n",
        "      <td>  17.595606</td>\n",
        "      <td>  18.250105</td>\n",
        "      <td>  19.311897</td>\n",
        "      <td>   8.302184</td>\n",
        "      <td>  59.515754</td>\n",
        "      <td>   9.874274</td>\n",
        "      <td>  52.676875</td>\n",
        "      <td>   9.349202</td>\n",
        "      <td>  56.414425</td>\n",
        "      <td>  28.053723</td>\n",
        "      <td>  13.467055</td>\n",
        "      <td>  54.157548</td>\n",
        "    </tr>\n",
        "    <tr>\n",
        "      <th>min</th>\n",
        "      <td>  32.000000</td>\n",
        "      <td>   8.000000</td>\n",
        "      <td>   0.700000</td>\n",
        "      <td>   0.000000</td>\n",
        "      <td>  28.700000</td>\n",
        "      <td>  36.400000</td>\n",
        "      <td>  64.000000</td>\n",
        "      <td> 331.000000</td>\n",
        "      <td>  66.000000</td>\n",
        "      <td> 314.000000</td>\n",
        "      <td>  69.000000</td>\n",
        "      <td> 330.000000</td>\n",
        "      <td>   2.000000</td>\n",
        "      <td>  34.600000</td>\n",
        "      <td>   1.000000</td>\n",
        "    </tr>\n",
        "    <tr>\n",
        "      <th>25%</th>\n",
        "      <td>  99.000000</td>\n",
        "      <td>  57.800000</td>\n",
        "      <td>   8.800000</td>\n",
        "      <td>   3.800000</td>\n",
        "      <td>  71.000000</td>\n",
        "      <td>  66.675000</td>\n",
        "      <td>  84.000000</td>\n",
        "      <td> 420.000000</td>\n",
        "      <td>  86.000000</td>\n",
        "      <td> 423.250000</td>\n",
        "      <td>  84.500000</td>\n",
        "      <td> 420.500000</td>\n",
        "      <td>  32.700000</td>\n",
        "      <td>  50.750000</td>\n",
        "      <td>  47.500000</td>\n",
        "    </tr>\n",
        "    <tr>\n",
        "      <th>50%</th>\n",
        "      <td> 104.000000</td>\n",
        "      <td>  86.000000</td>\n",
        "      <td>  24.500000</td>\n",
        "      <td>   9.700000</td>\n",
        "      <td>  89.600000</td>\n",
        "      <td>  89.400000</td>\n",
        "      <td>  91.000000</td>\n",
        "      <td> 483.000000</td>\n",
        "      <td>  91.000000</td>\n",
        "      <td> 479.500000</td>\n",
        "      <td>  90.000000</td>\n",
        "      <td> 490.000000</td>\n",
        "      <td>  54.400000</td>\n",
        "      <td>  61.800000</td>\n",
        "      <td>  94.000000</td>\n",
        "    </tr>\n",
        "    <tr>\n",
        "      <th>75%</th>\n",
        "      <td> 112.000000</td>\n",
        "      <td>  97.000000</td>\n",
        "      <td>  53.150000</td>\n",
        "      <td>  29.700000</td>\n",
        "      <td>  97.325000</td>\n",
        "      <td>  97.275000</td>\n",
        "      <td>  95.000000</td>\n",
        "      <td> 505.000000</td>\n",
        "      <td>  99.000000</td>\n",
        "      <td> 500.000000</td>\n",
        "      <td>  99.500000</td>\n",
        "      <td> 510.000000</td>\n",
        "      <td>  81.100000</td>\n",
        "      <td>  69.950000</td>\n",
        "      <td> 140.500000</td>\n",
        "    </tr>\n",
        "    <tr>\n",
        "      <th>max</th>\n",
        "      <td> 182.000000</td>\n",
        "      <td> 129.000000</td>\n",
        "      <td> 103.900000</td>\n",
        "      <td>  76.700000</td>\n",
        "      <td> 100.000000</td>\n",
        "      <td> 100.000000</td>\n",
        "      <td> 104.000000</td>\n",
        "      <td> 600.000000</td>\n",
        "      <td> 115.000000</td>\n",
        "      <td> 556.000000</td>\n",
        "      <td> 108.000000</td>\n",
        "      <td> 575.000000</td>\n",
        "      <td> 100.000000</td>\n",
        "      <td>  94.100000</td>\n",
        "      <td> 186.000000</td>\n",
        "    </tr>\n",
        "  </tbody>\n",
        "</table>\n",
        "</div>"
       ],
       "output_type": "pyout",
       "prompt_number": 40,
       "text": [
        "                     _2002_2011_gross_enrollement_ratio_primary  \\            \n",
        "              count                                  201.000000               \n",
        "              mean                                   104.652736               \n",
        "              std                                     15.397646               \n",
        "              min                                     32.000000               \n",
        "              25%                                     99.000000               \n",
        "              50%                                    104.000000               \n",
        "              75%                                    112.000000               \n",
        "              max                                    182.000000               \n",
        "                                                                              \n",
        "                    _2002_2011_gross_enrollement_ratio_secondary  \\           \n",
        "             count                                    195.000000              \n",
        "             mean                                      77.392308              \n",
        "             std                                       26.755884              \n",
        "             min                                        8.000000              \n",
        "             25%                                       57.800000              \n",
        "             50%                                       86.000000              \n",
        "             75%                                       97.000000              \n",
        "             max                                      129.000000              \n",
        "                                                                              \n",
        "                    _2002_2011_gross_enrollement_ratio_tertiary  \\            \n",
        "             count                                   187.000000               \n",
        "             mean                                     32.256684               \n",
        "             std                                      26.243393               \n",
        "             min                                       0.700000               \n",
        "             25%                                       8.800000               \n",
        "             50%                                      24.500000               \n",
        "             75%                                      53.150000               \n",
        "             max                                     103.900000               \n",
        "                                                                              \n",
        "       _2002_2011_primary_school_dropout_rate  _2005_2010_adult_literacy_rate \n",
        "count                              165.000000                      156.000000 \n",
        "mean                                17.710909                       82.219231 \n",
        "std                                 17.595606                       18.250105 \n",
        "min                                  0.000000                       28.700000 \n",
        "25%                                  3.800000                       71.000000 \n",
        "50%                                  9.700000                       89.600000 \n",
        "75%                                 29.700000                       97.325000 \n",
        "max                                 76.700000                      100.000000 \n",
        "                                                                              \n",
        "                _2005_2011_primary_school_teachers_trained_to_teach  \\        \n",
        "         count                                         106.000000             \n",
        "         mean                                           81.249057             \n",
        "         std                                            19.311897             \n",
        "         min                                            36.400000             \n",
        "         25%                                            66.675000             \n",
        "         50%                                            89.400000             \n",
        "         75%                                            97.275000             \n",
        "         max                                           100.000000             \n",
        "                                                                              \n",
        "        _2009_mathematics_derivation_from_mean  _2009_mathematics_mean_score  \n",
        " count                               63.000000                     63.000000  \n",
        " mean                                89.428571                    465.507937  \n",
        " std                                  8.302184                     59.515754  \n",
        " min                                 64.000000                    331.000000  \n",
        " 25%                                 84.000000                    420.000000  \n",
        " 50%                                 91.000000                    483.000000  \n",
        " 75%                                 95.000000                    505.000000  \n",
        " max                                104.000000                    600.000000  \n",
        "                                                                              \n",
        "            _2009_reading_derivation_from_mean  _2009_reading_mean_score  \\   \n",
        "     count                           63.000000                 64.000000      \n",
        "     mean                            92.603175                464.687500      \n",
        "     std                              9.874274                 52.676875      \n",
        "     min                             66.000000                314.000000      \n",
        "     25%                             86.000000                423.250000      \n",
        "     50%                             91.000000                479.500000      \n",
        "     75%                             99.000000                500.000000      \n",
        "     max                            115.000000                556.000000      \n",
        "                                                                              \n",
        "            _2009_science_derivation_from_mean  _2009_science_mean_score  \\   \n",
        "     count                           63.000000                 63.000000      \n",
        "     mean                            91.587302                470.269841      \n",
        "     std                              9.349202                 56.414425      \n",
        "     min                             69.000000                330.000000      \n",
        "     25%                             84.500000                420.500000      \n",
        "     50%                             90.000000                490.000000      \n",
        "     75%                             99.500000                510.000000      \n",
        "     max                            108.000000                575.000000      \n",
        "                                                                              \n",
        "                 _2010_population_with_at_least_secondary_education  \\        \n",
        "          count                                         168.000000            \n",
        "          mean                                           56.088095            \n",
        "          std                                            28.053723            \n",
        "          min                                             2.000000            \n",
        "          25%                                            32.700000            \n",
        "          50%                                            54.400000            \n",
        "          75%                                            81.100000            \n",
        "          max                                           100.000000            \n",
        "                                                                              \n",
        "              _2011_satisfaction_with_education_quality  _2012_hdi_rank       \n",
        "       count                                 155.000000      187.000000       \n",
        "       mean                                   61.332903       93.786096       \n",
        "       std                                    13.467055       54.157548       \n",
        "       min                                    34.600000        1.000000       \n",
        "       25%                                    50.750000       47.500000       \n",
        "       50%                                    61.800000       94.000000       \n",
        "       75%                                    69.950000      140.500000       \n",
        "       max                                    94.100000      186.000000       \n",
        "\n",
        "  \n",
        "  \n",
        "  \n",
        "  \n",
        "  \n",
        "  \n",
        "  \n",
        "  \n",
        "  \n",
        "  \n",
        "  \n",
        "  \n",
        "  \n",
        "  \n",
        "  \n",
        "  \n",
        "  \n",
        "  \n",
        "  \n",
        "  \n",
        "  \n",
        "  \n",
        "  \n",
        "  \n",
        "  \n",
        "  \n",
        "  \n",
        "  \n",
        "  \n",
        "  \n",
        " \\\n",
        "  \n",
        "  \n",
        "  \n",
        "  \n",
        "  \n",
        "  \n",
        "  \n",
        "  \n",
        "  \n",
        "  \n",
        "  \n",
        "  \n",
        "  \n",
        "  \n",
        "  \n",
        "  \n",
        "  \n",
        "  \n",
        "  \n",
        "\\ \n",
        "  \n",
        "  \n",
        "  \n",
        "  \n",
        "  \n",
        "  \n",
        "  \n",
        "  \n",
        "  \n",
        "  \n",
        "  \n",
        "  \n",
        "  \n",
        "  \n",
        "  \n",
        "  \n",
        "  \n",
        "  \n",
        "  \n",
        "  \n",
        "  \n",
        "  \n",
        "  \n",
        "  \n",
        "  \n",
        "  \n",
        "  \n",
        "  \n",
        "  \n",
        "  \n",
        "  \n",
        "  \n",
        "  \n",
        "  \n",
        "  \n",
        "  \n",
        "  \n",
        "  \n",
        "  \n",
        "  \n",
        "  \n",
        "  \n",
        "  \n",
        "  \n",
        "  \n",
        "  \n",
        "  \n",
        "  "
       ]
      }
     ],
     "prompt_number": 40
    },
    {
     "cell_type": "code",
     "collapsed": false,
     "input": [
      "education['name'].head()"
     ],
     "language": "python",
     "metadata": {},
     "outputs": [
      {
       "output_type": "pyout",
       "prompt_number": 41,
       "text": [
        "    0           Norway   \n",
        "    1        Australia   \n",
        "    2    United States   \n",
        "    3      Netherlands   \n",
        "    4          Germany   \n",
        "Name: name, dtype: object"
       ]
      }
     ],
     "prompt_number": 41
    },
    {
     "cell_type": "code",
     "collapsed": false,
     "input": [
      "education[['name','_2012_hdi_rank']].head()"
     ],
     "language": "python",
     "metadata": {},
     "outputs": [
      {
       "html": [
        "<div style=\"max-height:1000px;max-width:1500px;overflow:auto;\">\n",
        "<table border=\"1\" class=\"dataframe\">\n",
        "  <thead>\n",
        "    <tr style=\"text-align: right;\">\n",
        "      <th></th>\n",
        "      <th>name</th>\n",
        "      <th>_2012_hdi_rank</th>\n",
        "    </tr>\n",
        "  </thead>\n",
        "  <tbody>\n",
        "    <tr>\n",
        "      <th>0</th>\n",
        "      <td>        Norway</td>\n",
        "      <td> 1</td>\n",
        "    </tr>\n",
        "    <tr>\n",
        "      <th>1</th>\n",
        "      <td>     Australia</td>\n",
        "      <td> 2</td>\n",
        "    </tr>\n",
        "    <tr>\n",
        "      <th>2</th>\n",
        "      <td> United States</td>\n",
        "      <td> 3</td>\n",
        "    </tr>\n",
        "    <tr>\n",
        "      <th>3</th>\n",
        "      <td>   Netherlands</td>\n",
        "      <td> 4</td>\n",
        "    </tr>\n",
        "    <tr>\n",
        "      <th>4</th>\n",
        "      <td>       Germany</td>\n",
        "      <td> 5</td>\n",
        "    </tr>\n",
        "  </tbody>\n",
        "</table>\n",
        "</div>"
       ],
       "output_type": "pyout",
       "prompt_number": 42,
       "text": [
        "            name  _2012_hdi_rank\n",
        "0         Norway               1\n",
        "1      Australia               2\n",
        "2  United States               3\n",
        "3    Netherlands               4\n",
        "4        Germany               5"
       ]
      }
     ],
     "prompt_number": 42
    },
    {
     "cell_type": "code",
     "collapsed": false,
     "input": [
      "education[['name','_2012_hdi_rank']].tail()"
     ],
     "language": "python",
     "metadata": {},
     "outputs": [
      {
       "html": [
        "<div style=\"max-height:1000px;max-width:1500px;overflow:auto;\">\n",
        "<table border=\"1\" class=\"dataframe\">\n",
        "  <thead>\n",
        "    <tr style=\"text-align: right;\">\n",
        "      <th></th>\n",
        "      <th>name</th>\n",
        "      <th>_2012_hdi_rank</th>\n",
        "    </tr>\n",
        "  </thead>\n",
        "  <tbody>\n",
        "    <tr>\n",
        "      <th>203</th>\n",
        "      <td>                South Asia</td>\n",
        "      <td>NaN</td>\n",
        "    </tr>\n",
        "    <tr>\n",
        "      <th>204</th>\n",
        "      <td>        Sub-Saharan Africa</td>\n",
        "      <td>NaN</td>\n",
        "    </tr>\n",
        "    <tr>\n",
        "      <th>205</th>\n",
        "      <td> Least developed countries</td>\n",
        "      <td>NaN</td>\n",
        "    </tr>\n",
        "    <tr>\n",
        "      <th>206</th>\n",
        "      <td>                      SIDS</td>\n",
        "      <td>NaN</td>\n",
        "    </tr>\n",
        "    <tr>\n",
        "      <th>207</th>\n",
        "      <td>                     World</td>\n",
        "      <td>NaN</td>\n",
        "    </tr>\n",
        "  </tbody>\n",
        "</table>\n",
        "</div>"
       ],
       "output_type": "pyout",
       "prompt_number": 43,
       "text": [
        "                          name  _2012_hdi_rank\n",
        "203                 South Asia             NaN\n",
        "204         Sub-Saharan Africa             NaN\n",
        "205  Least developed countries             NaN\n",
        "206                       SIDS             NaN\n",
        "207                      World             NaN"
       ]
      }
     ],
     "prompt_number": 43
    },
    {
     "cell_type": "code",
     "collapsed": false,
     "input": [
      "education._2005_2010_adult_literacy_rate.hist(bins=15)\n",
      "plt.title(\"2005 2010 Adult Literacy Rate\")\n",
      "plt.ylabel('count of countries')\n",
      "plt.xlabel('%');"
     ],
     "language": "python",
     "metadata": {},
     "outputs": [
      {
       "output_type": "display_data",
       "png": "[encoded data removed]"
      }
     ],
     "prompt_number": 44
    },
    {
     "cell_type": "markdown",
     "metadata": {},
     "source": [
      "This concludes an quick overview of the most important libraries for scientific computing with Python. For the next lesson we will explore step by step the basics of Python language."
     ]
    }
   ],
   "metadata": {}
  }
 ]
}