{
 "metadata": {
  "name": "P5EP 4. Molecules 2of2"
 },
 "nbformat": 3,
 "nbformat_minor": 0,
 "worksheets": [
  {
   "cells": [
    {
     "cell_type": "heading",
     "level": 1,
     "metadata": {},
     "source": [
      "Python in 5 Easy Pieces"
     ]
    },
    {
     "cell_type": "markdown",
     "metadata": {},
     "source": [
      "Guillermo Avendano-Franco (gufranco@mail.wvu.edu)"
     ]
    },
    {
     "cell_type": "markdown",
     "metadata": {},
     "source": [
      "This is a set of lectures about Python for Scientific Computing. These lectures are presented for those who attended the Virtual School of Computational Science and Engineering [VSCSE](http://www.vscse.org/) at [West Virginia University](http://www.wvu.edu).\n",
      "From June 16 to 20 of 2014 and From June 30 to July 2 of 2014\n",
      "\n",
      "The other lectures are accesible using the IPython Notebook Viewer and ther are located on my GitHub account\n",
      "\n",
      "[Python in 5 Easy Pieces](http://nbviewer.ipython.org/github/guilleaf/Lectures/tree/master/Python_in_5_Easy_Pieces)"
     ]
    },
    {
     "cell_type": "heading",
     "level": 1,
     "metadata": {},
     "source": [
      "An exercise about Molecules (Part 2/2)"
     ]
    },
    {
     "cell_type": "code",
     "collapsed": false,
     "input": [
      "%pylab inline\n",
      "%gui wx"
     ],
     "language": "python",
     "metadata": {},
     "outputs": [
      {
       "output_type": "stream",
       "stream": "stdout",
       "text": [
        "\n",
        "Welcome to pylab, a matplotlib-based Python environment [backend: module://IPython.zmq.pylab.backend_inline].\n",
        "For more information, type 'help(pylab)'.\n"
       ]
      }
     ],
     "prompt_number": 1
    },
    {
     "cell_type": "code",
     "collapsed": false,
     "input": [
      "import urllib\n",
      "import json\n",
      "import bz2"
     ],
     "language": "python",
     "metadata": {},
     "outputs": [],
     "prompt_number": 2
    },
    {
     "cell_type": "code",
     "collapsed": false,
     "input": [
      "urlfile=urllib.urlretrieve('https://github.com/guilleaf/Lectures/raw/master/Python_in_5_Easy_Pieces/data/molecules.json.bz2')\n",
      "urlfile"
     ],
     "language": "python",
     "metadata": {},
     "outputs": [
      {
       "output_type": "pyout",
       "prompt_number": 3,
       "text": [
        "('/tmp/tmp76BV1f.bz2', <httplib.HTTPMessage instance at 0x44137e8>)"
       ]
      }
     ],
     "prompt_number": 3
    },
    {
     "cell_type": "code",
     "collapsed": false,
     "input": [
      "rf=bz2.BZ2File(urlfile[0])"
     ],
     "language": "python",
     "metadata": {},
     "outputs": [],
     "prompt_number": 4
    },
    {
     "cell_type": "code",
     "collapsed": false,
     "input": [
      "molecules=json.load(rf)"
     ],
     "language": "python",
     "metadata": {},
     "outputs": [],
     "prompt_number": 5
    },
    {
     "cell_type": "code",
     "collapsed": false,
     "input": [
      "len(molecules)"
     ],
     "language": "python",
     "metadata": {},
     "outputs": [
      {
       "output_type": "pyout",
       "prompt_number": 6,
       "text": [
        "250"
       ]
      }
     ],
     "prompt_number": 6
    },
    {
     "cell_type": "code",
     "collapsed": false,
     "input": [
      "import pandas"
     ],
     "language": "python",
     "metadata": {},
     "outputs": [],
     "prompt_number": 7
    },
    {
     "cell_type": "code",
     "collapsed": false,
     "input": [
      "df=pandas.DataFrame(molecules)\n",
      "df"
     ],
     "language": "python",
     "metadata": {},
     "outputs": [
      {
       "html": [
        "<pre>\n",
        "&lt;class 'pandas.core.frame.DataFrame'&gt;\n",
        "Int64Index: 250 entries, 0 to 249\n",
        "Data columns (total 5 columns):\n",
        "ID         250  non-null values\n",
        "name       250  non-null values\n",
        "natom      250  non-null values\n",
        "pos        250  non-null values\n",
        "species    250  non-null values\n",
        "dtypes: int64(2), object(3)\n",
        "</pre>"
       ],
       "output_type": "pyout",
       "prompt_number": 8,
       "text": [
        "<class 'pandas.core.frame.DataFrame'>\n",
        "Int64Index: 250 entries, 0 to 249\n",
        "Data columns (total 5 columns):\n",
        "ID         250  non-null values\n",
        "name       250  non-null values\n",
        "natom      250  non-null values\n",
        "pos        250  non-null values\n",
        "species    250  non-null values\n",
        "dtypes: int64(2), object(3)"
       ]
      }
     ],
     "prompt_number": 8
    },
    {
     "cell_type": "code",
     "collapsed": false,
     "input": [
      "df.head(3)"
     ],
     "language": "python",
     "metadata": {},
     "outputs": [
      {
       "html": [
        "<div style=\"max-height:1000px;max-width:1500px;overflow:auto;\">\n",
        "<table border=\"1\" class=\"dataframe\">\n",
        "  <thead>\n",
        "    <tr style=\"text-align: right;\">\n",
        "      <th></th>\n",
        "      <th>ID</th>\n",
        "      <th>name</th>\n",
        "      <th>natom</th>\n",
        "      <th>pos</th>\n",
        "      <th>species</th>\n",
        "    </tr>\n",
        "  </thead>\n",
        "  <tbody>\n",
        "    <tr>\n",
        "      <th>0</th>\n",
        "      <td> 27344124</td>\n",
        "      <td> Fumaric acid</td>\n",
        "      <td> 24</td>\n",
        "      <td> [[0.46, -0.485, 0.13], [1.899, -0.249, 0.059],...</td>\n",
        "      <td> [6, 6, 6, 6, 6, 6, 1, 1, 1, 1, 1, 1, 8, 8, 8, ...</td>\n",
        "    </tr>\n",
        "    <tr>\n",
        "      <th>1</th>\n",
        "      <td> 27344698</td>\n",
        "      <td>    Hydrazine</td>\n",
        "      <td> 18</td>\n",
        "      <td> [[2.88, 5.194, -2.242], [1.737, 1.294, 0.687],...</td>\n",
        "      <td> [6, 6, 1, 1, 1, 1, 1, 1, 1, 1, 1, 1, 7, 8, 8, ...</td>\n",
        "    </tr>\n",
        "    <tr>\n",
        "      <th>2</th>\n",
        "      <td> 27344178</td>\n",
        "      <td>     Thiourea</td>\n",
        "      <td>  8</td>\n",
        "      <td> [[0.0, 0.0, 0.0], [-1.514, 0.75, 0.0], [-2.135...</td>\n",
        "      <td>                         [16, 6, 7, 1, 1, 7, 1, 1]</td>\n",
        "    </tr>\n",
        "  </tbody>\n",
        "</table>\n",
        "</div>"
       ],
       "output_type": "pyout",
       "prompt_number": 9,
       "text": [
        "         ID          name  natom  \\\n",
        "0  27344124  Fumaric acid     24   \n",
        "1  27344698     Hydrazine     18   \n",
        "2  27344178      Thiourea      8   \n",
        "\n",
        "                                                 pos  \\\n",
        "0  [[0.46, -0.485, 0.13], [1.899, -0.249, 0.059],...   \n",
        "1  [[2.88, 5.194, -2.242], [1.737, 1.294, 0.687],...   \n",
        "2  [[0.0, 0.0, 0.0], [-1.514, 0.75, 0.0], [-2.135...   \n",
        "\n",
        "                                             species  \n",
        "0  [6, 6, 6, 6, 6, 6, 1, 1, 1, 1, 1, 1, 8, 8, 8, ...  \n",
        "1  [6, 6, 1, 1, 1, 1, 1, 1, 1, 1, 1, 1, 7, 8, 8, ...  \n",
        "2                          [16, 6, 7, 1, 1, 7, 1, 1]  "
       ]
      }
     ],
     "prompt_number": 9
    },
    {
     "cell_type": "code",
     "collapsed": false,
     "input": [
      "df.tail(3)"
     ],
     "language": "python",
     "metadata": {},
     "outputs": [
      {
       "html": [
        "<div style=\"max-height:1000px;max-width:1500px;overflow:auto;\">\n",
        "<table border=\"1\" class=\"dataframe\">\n",
        "  <thead>\n",
        "    <tr style=\"text-align: right;\">\n",
        "      <th></th>\n",
        "      <th>ID</th>\n",
        "      <th>name</th>\n",
        "      <th>natom</th>\n",
        "      <th>pos</th>\n",
        "      <th>species</th>\n",
        "    </tr>\n",
        "  </thead>\n",
        "  <tbody>\n",
        "    <tr>\n",
        "      <th>247</th>\n",
        "      <td> 27343950</td>\n",
        "      <td> Phycocyanobilin</td>\n",
        "      <td>  43</td>\n",
        "      <td> [[0.124, 1.761, -0.051], [-1.458, -0.101, -0.3...</td>\n",
        "      <td> [6, 7, 6, 6, 6, 6, 6, 6, 6, 6, 8, 8, 6, 7, 6, ...</td>\n",
        "    </tr>\n",
        "    <tr>\n",
        "      <th>248</th>\n",
        "      <td> 27344751</td>\n",
        "      <td>         Propyne</td>\n",
        "      <td>   7</td>\n",
        "      <td> [[0.0, 0.0, 0.955], [0.0, 0.0, -0.51], [0.0, 0...</td>\n",
        "      <td>                             [6, 6, 6, 1, 1, 1, 1]</td>\n",
        "    </tr>\n",
        "    <tr>\n",
        "      <th>249</th>\n",
        "      <td> 27344753</td>\n",
        "      <td>      Vancomycin</td>\n",
        "      <td> 101</td>\n",
        "      <td> [[0.0, 0.0, 0.0], [-0.921, 6.205, -1.609], [-2...</td>\n",
        "      <td> [17, 17, 6, 6, 6, 6, 6, 6, 8, 6, 6, 6, 6, 6, 6...</td>\n",
        "    </tr>\n",
        "  </tbody>\n",
        "</table>\n",
        "</div>"
       ],
       "output_type": "pyout",
       "prompt_number": 10,
       "text": [
        "           ID             name  natom  \\\n",
        "247  27343950  Phycocyanobilin     43   \n",
        "248  27344751          Propyne      7   \n",
        "249  27344753       Vancomycin    101   \n",
        "\n",
        "                                                   pos  \\\n",
        "247  [[0.124, 1.761, -0.051], [-1.458, -0.101, -0.3...   \n",
        "248  [[0.0, 0.0, 0.955], [0.0, 0.0, -0.51], [0.0, 0...   \n",
        "249  [[0.0, 0.0, 0.0], [-0.921, 6.205, -1.609], [-2...   \n",
        "\n",
        "                                               species  \n",
        "247  [6, 7, 6, 6, 6, 6, 6, 6, 6, 6, 8, 8, 6, 7, 6, ...  \n",
        "248                              [6, 6, 6, 1, 1, 1, 1]  \n",
        "249  [17, 17, 6, 6, 6, 6, 6, 6, 8, 6, 6, 6, 6, 6, 6...  "
       ]
      }
     ],
     "prompt_number": 10
    },
    {
     "cell_type": "code",
     "collapsed": false,
     "input": [
      "df.set_index('ID')"
     ],
     "language": "python",
     "metadata": {},
     "outputs": [
      {
       "html": [
        "<pre>\n",
        "&lt;class 'pandas.core.frame.DataFrame'&gt;\n",
        "Int64Index: 250 entries, 27344124 to 27344753\n",
        "Data columns (total 4 columns):\n",
        "name       250  non-null values\n",
        "natom      250  non-null values\n",
        "pos        250  non-null values\n",
        "species    250  non-null values\n",
        "dtypes: int64(1), object(3)\n",
        "</pre>"
       ],
       "output_type": "pyout",
       "prompt_number": 11,
       "text": [
        "<class 'pandas.core.frame.DataFrame'>\n",
        "Int64Index: 250 entries, 27344124 to 27344753\n",
        "Data columns (total 4 columns):\n",
        "name       250  non-null values\n",
        "natom      250  non-null values\n",
        "pos        250  non-null values\n",
        "species    250  non-null values\n",
        "dtypes: int64(1), object(3)"
       ]
      }
     ],
     "prompt_number": 11
    },
    {
     "cell_type": "code",
     "collapsed": false,
     "input": [
      "df.natom.describe()"
     ],
     "language": "python",
     "metadata": {},
     "outputs": [
      {
       "output_type": "pyout",
       "prompt_number": 12,
       "text": [
        "count     250.000000\n",
        "mean      126.800000\n",
        "std       533.089729\n",
        "min         2.000000\n",
        "25%        12.000000\n",
        "50%        26.000000\n",
        "75%        62.250000\n",
        "max      5719.000000\n",
        "dtype: float64"
       ]
      }
     ],
     "prompt_number": 12
    },
    {
     "cell_type": "code",
     "collapsed": false,
     "input": [
      "df.natom[df['natom']< 500].hist(figsize=(12,4),alpha=0.5, bins=50);"
     ],
     "language": "python",
     "metadata": {},
     "outputs": [
      {
       "output_type": "display_data",
       "png": "[encoded data removed]"
      }
     ],
     "prompt_number": 13
    },
    {
     "cell_type": "heading",
     "level": 2,
     "metadata": {},
     "source": [
      "Visualizing Molecules"
     ]
    },
    {
     "cell_type": "markdown",
     "metadata": {},
     "source": [
      "Now we will use mayavi to create a simple molecular 3D visualization tool "
     ]
    },
    {
     "cell_type": "code",
     "collapsed": false,
     "input": [
      "from mayavi import mlab"
     ],
     "language": "python",
     "metadata": {},
     "outputs": [],
     "prompt_number": 14
    },
    {
     "cell_type": "code",
     "collapsed": false,
     "input": [
      "cpk=[(1, 0.5, 1),(1,1,1), (1, 0.5, 1), \n",
      "(1, 0.5, 1), (1, 0.5, 1),  (1, 0.5, 1), (0,0,0), (0, 0, 1), (1, 0, 0), (1, 0.5, 1), (1, 0.5, 1), \n",
      "(1, 0.5, 1),(1, 0.5, 1), (1, 0.5, 1), (1, 0.5, 1),(1, 0.5, 1), (1, 1, 0), (0, 1, 0),\n",
      "(1, 0.5, 1),(1, 0.5, 1), (1, 0.5, 1),(1, 0.5, 1), (1, 0.5, 1),(1, 0.5, 1), (1, 0.5, 1),(1, 0.5, 1), (1, 0.5, 1),(1, 0.5, 1), \n",
      "(1, 0.5, 1),(1, 0.5, 1), (1, 0.5, 1),(1, 0.5, 1), (1, 0.5, 1),(1, 0.5, 1), (1, 0.5, 1),(1, 0.5, 1), (1, 0.5, 1),(1, 0.5, 1), \n",
      "(1, 0.5, 1),(1, 0.5, 1), (1, 0.5, 1),(1, 0.5, 1), (1, 0.5, 1),(1, 0.5, 1), (1, 0.5, 1),(1, 0.5, 1), (1, 0.5, 1),(1, 0.5, 1), \n",
      "(1, 0.5, 1),(1, 0.5, 1), (1, 0.5, 1),(1, 0.5, 1), (1, 0.5, 1),(1, 0.5, 1), (1, 0.5, 1),(1, 0.5, 1), (1, 0.5, 1),(1, 0.5, 1), \n",
      "(1, 0.5, 1),(1, 0.5, 1), (1, 0.5, 1),(1, 0.5, 1), (1, 0.5, 1),(1, 0.5, 1), (1, 0.5, 1),(1, 0.5, 1), (1, 0.5, 1),(1, 0.5, 1),\n",
      "(1, 0.5, 1),(1, 0.5, 1), (1, 0.5, 1),(1, 0.5, 1), (1, 0.5, 1),(1, 0.5, 1), (1, 0.5, 1),(1, 0.5, 1), (1, 0.5, 1),(1, 0.5, 1)]"
     ],
     "language": "python",
     "metadata": {},
     "outputs": [],
     "prompt_number": 15
    },
    {
     "cell_type": "code",
     "collapsed": false,
     "input": [
      "positions = df[df['ID']== 27344178]\n",
      "positions"
     ],
     "language": "python",
     "metadata": {},
     "outputs": [
      {
       "html": [
        "<div style=\"max-height:1000px;max-width:1500px;overflow:auto;\">\n",
        "<table border=\"1\" class=\"dataframe\">\n",
        "  <thead>\n",
        "    <tr style=\"text-align: right;\">\n",
        "      <th></th>\n",
        "      <th>ID</th>\n",
        "      <th>name</th>\n",
        "      <th>natom</th>\n",
        "      <th>pos</th>\n",
        "      <th>species</th>\n",
        "    </tr>\n",
        "  </thead>\n",
        "  <tbody>\n",
        "    <tr>\n",
        "      <th>2</th>\n",
        "      <td> 27344178</td>\n",
        "      <td> Thiourea</td>\n",
        "      <td> 8</td>\n",
        "      <td> [[0.0, 0.0, 0.0], [-1.514, 0.75, 0.0], [-2.135...</td>\n",
        "      <td> [16, 6, 7, 1, 1, 7, 1, 1]</td>\n",
        "    </tr>\n",
        "  </tbody>\n",
        "</table>\n",
        "</div>"
       ],
       "output_type": "pyout",
       "prompt_number": 16,
       "text": [
        "         ID      name  natom  \\\n",
        "2  27344178  Thiourea      8   \n",
        "\n",
        "                                                 pos  \\\n",
        "2  [[0.0, 0.0, 0.0], [-1.514, 0.75, 0.0], [-2.135...   \n",
        "\n",
        "                     species  \n",
        "2  [16, 6, 7, 1, 1, 7, 1, 1]  "
       ]
      }
     ],
     "prompt_number": 16
    },
    {
     "cell_type": "code",
     "collapsed": false,
     "input": [
      "positions=numpy.array(molecules[2]['pos'])\n",
      "species=molecules[2]['species']"
     ],
     "language": "python",
     "metadata": {},
     "outputs": [],
     "prompt_number": 17
    },
    {
     "cell_type": "code",
     "collapsed": false,
     "input": [
      "for i in range(molecules[2]['natom']):\n",
      "    mlab.points3d(positions[i,0],positions[i,1],positions[i,2], color=cpk[species[i]])"
     ],
     "language": "python",
     "metadata": {},
     "outputs": [],
     "prompt_number": 18
    },
    {
     "cell_type": "code",
     "collapsed": false,
     "input": [
      "positions"
     ],
     "language": "python",
     "metadata": {},
     "outputs": [
      {
       "output_type": "pyout",
       "prompt_number": 19,
       "text": [
        "array([[ 0.   ,  0.   ,  0.   ],\n",
        "       [-1.514,  0.75 ,  0.   ],\n",
        "       [-2.135,  1.062,  1.132],\n",
        "       [-2.987,  1.452,  1.122],\n",
        "       [-1.823,  0.801,  1.867],\n",
        "       [-2.135,  1.062, -1.132],\n",
        "       [-2.987,  1.452, -1.122],\n",
        "       [-1.823,  0.801, -1.867]])"
       ]
      }
     ],
     "prompt_number": 19
    },
    {
     "cell_type": "code",
     "collapsed": false,
     "input": [
      "species"
     ],
     "language": "python",
     "metadata": {},
     "outputs": [
      {
       "output_type": "pyout",
       "prompt_number": 20,
       "text": [
        "[16, 6, 7, 1, 1, 7, 1, 1]"
       ]
      }
     ],
     "prompt_number": 20
    },
    {
     "cell_type": "code",
     "collapsed": false,
     "input": [
      "df.sort(['natom']).tail(10)"
     ],
     "language": "python",
     "metadata": {},
     "outputs": [
      {
       "html": [
        "<div style=\"max-height:1000px;max-width:1500px;overflow:auto;\">\n",
        "<table border=\"1\" class=\"dataframe\">\n",
        "  <thead>\n",
        "    <tr style=\"text-align: right;\">\n",
        "      <th></th>\n",
        "      <th>ID</th>\n",
        "      <th>name</th>\n",
        "      <th>natom</th>\n",
        "      <th>pos</th>\n",
        "      <th>species</th>\n",
        "    </tr>\n",
        "  </thead>\n",
        "  <tbody>\n",
        "    <tr>\n",
        "      <th>113</th>\n",
        "      <td> 27344060</td>\n",
        "      <td>  Brazilianite</td>\n",
        "      <td>  508</td>\n",
        "      <td> [[0.0, 0.0, 0.0], [-1.836, -0.931, 2.28], [0.6...</td>\n",
        "      <td> [15, 13, 13, 13, 11, 8, 8, 8, 8, 8, 8, 8, 8, 8...</td>\n",
        "    </tr>\n",
        "    <tr>\n",
        "      <th>207</th>\n",
        "      <td> 27344222</td>\n",
        "      <td>         Beryl</td>\n",
        "      <td>  529</td>\n",
        "      <td> [[0.0, 0.0, 0.0], [1.57, -0.924, 2.293], [1.57...</td>\n",
        "      <td> [14, 4, 13, 8, 8, 14, 8, 14, 8, 8, 14, 8, 8, 1...</td>\n",
        "    </tr>\n",
        "    <tr>\n",
        "      <th>198</th>\n",
        "      <td> 27344558</td>\n",
        "      <td>   Phengite 3T</td>\n",
        "      <td>  539</td>\n",
        "      <td> [[0.0, 0.0, 0.0], [-0.355, 0.858, 0.065], [-0....</td>\n",
        "      <td> [8, 1, 19, 8, 1, 19, 1, 8, 1, 19, 8, 8, 1, 19,...</td>\n",
        "    </tr>\n",
        "    <tr>\n",
        "      <th>127</th>\n",
        "      <td> 27344269</td>\n",
        "      <td>      Boracite</td>\n",
        "      <td>  575</td>\n",
        "      <td> [[0.0, 0.0, 0.0], [-0.639, -3.958, -0.912], [0...</td>\n",
        "      <td> [8, 8, 8, 8, 8, 8, 8, 8, 12, 5, 5, 5, 5, 5, 8,...</td>\n",
        "    </tr>\n",
        "    <tr>\n",
        "      <th>128</th>\n",
        "      <td> 27344414</td>\n",
        "      <td>     Variscite</td>\n",
        "      <td>  799</td>\n",
        "      <td> [[0.0, 0.0, 0.0], [0.025, -0.134, -0.795], [2....</td>\n",
        "      <td> [8, 1, 1, 13, 8, 8, 8, 1, 1, 13, 8, 8, 1, 8, 1...</td>\n",
        "    </tr>\n",
        "    <tr>\n",
        "      <th>27 </th>\n",
        "      <td> 27344630</td>\n",
        "      <td>     Scapolite</td>\n",
        "      <td>  807</td>\n",
        "      <td> [[0.0, 0.0, 0.0], [0.454, 2.365, -0.4], [0.489...</td>\n",
        "      <td> [11, 8, 8, 11, 14, 8, 8, 8, 14, 8, 8, 11, 8, 8...</td>\n",
        "    </tr>\n",
        "    <tr>\n",
        "      <th>185</th>\n",
        "      <td> 27344080</td>\n",
        "      <td>    Ferredoxin</td>\n",
        "      <td>  903</td>\n",
        "      <td> [[18.128, 17.569, 5.003], [17.392, 17.126, 6.1...</td>\n",
        "      <td> [7, 6, 6, 8, 6, 7, 6, 6, 8, 6, 6, 6, 6, 6, 6, ...</td>\n",
        "    </tr>\n",
        "    <tr>\n",
        "      <th>143</th>\n",
        "      <td> 27343937</td>\n",
        "      <td> Hyaluronidase</td>\n",
        "      <td> 2609</td>\n",
        "      <td> [[13.629, 20.918, 11.713], [12.368, 20.496, 12...</td>\n",
        "      <td> [7, 6, 6, 8, 6, 6, 6, 8, 8, 7, 6, 6, 8, 6, 6, ...</td>\n",
        "    </tr>\n",
        "    <tr>\n",
        "      <th>20 </th>\n",
        "      <td> 27344252</td>\n",
        "      <td>   Phycocyanin</td>\n",
        "      <td> 5434</td>\n",
        "      <td> [[4.793, -25.066, 11.005], [5.72, -26.003, 10....</td>\n",
        "      <td> [7, 6, 6, 8, 6, 6, 16, 6, 7, 6, 6, 8, 6, 6, 6,...</td>\n",
        "    </tr>\n",
        "    <tr>\n",
        "      <th>183</th>\n",
        "      <td> 27344088</td>\n",
        "      <td> Phycoerythrin</td>\n",
        "      <td> 5719</td>\n",
        "      <td> [[114.323, 70.436, -10.791], [115.404, 71.153,...</td>\n",
        "      <td> [7, 6, 6, 8, 6, 6, 16, 6, 7, 6, 6, 8, 6, 6, 6,...</td>\n",
        "    </tr>\n",
        "  </tbody>\n",
        "</table>\n",
        "</div>"
       ],
       "output_type": "pyout",
       "prompt_number": 21,
       "text": [
        "           ID           name  natom  \\\n",
        "113  27344060   Brazilianite    508   \n",
        "207  27344222          Beryl    529   \n",
        "198  27344558    Phengite 3T    539   \n",
        "127  27344269       Boracite    575   \n",
        "128  27344414      Variscite    799   \n",
        "27   27344630      Scapolite    807   \n",
        "185  27344080     Ferredoxin    903   \n",
        "143  27343937  Hyaluronidase   2609   \n",
        "20   27344252    Phycocyanin   5434   \n",
        "183  27344088  Phycoerythrin   5719   \n",
        "\n",
        "                                                   pos  \\\n",
        "113  [[0.0, 0.0, 0.0], [-1.836, -0.931, 2.28], [0.6...   \n",
        "207  [[0.0, 0.0, 0.0], [1.57, -0.924, 2.293], [1.57...   \n",
        "198  [[0.0, 0.0, 0.0], [-0.355, 0.858, 0.065], [-0....   \n",
        "127  [[0.0, 0.0, 0.0], [-0.639, -3.958, -0.912], [0...   \n",
        "128  [[0.0, 0.0, 0.0], [0.025, -0.134, -0.795], [2....   \n",
        "27   [[0.0, 0.0, 0.0], [0.454, 2.365, -0.4], [0.489...   \n",
        "185  [[18.128, 17.569, 5.003], [17.392, 17.126, 6.1...   \n",
        "143  [[13.629, 20.918, 11.713], [12.368, 20.496, 12...   \n",
        "20   [[4.793, -25.066, 11.005], [5.72, -26.003, 10....   \n",
        "183  [[114.323, 70.436, -10.791], [115.404, 71.153,...   \n",
        "\n",
        "                                               species  \n",
        "113  [15, 13, 13, 13, 11, 8, 8, 8, 8, 8, 8, 8, 8, 8...  \n",
        "207  [14, 4, 13, 8, 8, 14, 8, 14, 8, 8, 14, 8, 8, 1...  \n",
        "198  [8, 1, 19, 8, 1, 19, 1, 8, 1, 19, 8, 8, 1, 19,...  \n",
        "127  [8, 8, 8, 8, 8, 8, 8, 8, 12, 5, 5, 5, 5, 5, 8,...  \n",
        "128  [8, 1, 1, 13, 8, 8, 8, 1, 1, 13, 8, 8, 1, 8, 1...  \n",
        "27   [11, 8, 8, 11, 14, 8, 8, 8, 14, 8, 8, 11, 8, 8...  \n",
        "185  [7, 6, 6, 8, 6, 7, 6, 6, 8, 6, 6, 6, 6, 6, 6, ...  \n",
        "143  [7, 6, 6, 8, 6, 6, 6, 8, 8, 7, 6, 6, 8, 6, 6, ...  \n",
        "20   [7, 6, 6, 8, 6, 6, 16, 6, 7, 6, 6, 8, 6, 6, 6,...  \n",
        "183  [7, 6, 6, 8, 6, 6, 16, 6, 7, 6, 6, 8, 6, 6, 6,...  "
       ]
      }
     ],
     "prompt_number": 21
    },
    {
     "cell_type": "code",
     "collapsed": false,
     "input": [
      "index=185\n",
      "positions=numpy.array(molecules[index]['pos'])\n",
      "species=molecules[index]['species']"
     ],
     "language": "python",
     "metadata": {},
     "outputs": [],
     "prompt_number": 22
    },
    {
     "cell_type": "code",
     "collapsed": false,
     "input": [
      "for i in range(molecules[index]['natom']):\n",
      "    mlab.points3d(positions[i,0],positions[i,1],positions[i,2], color=cpk[species[i]])"
     ],
     "language": "python",
     "metadata": {},
     "outputs": [
      {
       "ename": "IndexError",
       "evalue": "list index out of range",
       "output_type": "pyerr",
       "traceback": [
        "\u001b[0;31m---------------------------------------------------------------------------\u001b[0m\n\u001b[0;31mIndexError\u001b[0m                                Traceback (most recent call last)",
        "\u001b[0;32m<ipython-input-27-8c69a491295d>\u001b[0m in \u001b[0;36m<module>\u001b[0;34m()\u001b[0m\n\u001b[1;32m      1\u001b[0m \u001b[0;32mfor\u001b[0m \u001b[0mi\u001b[0m \u001b[0;32min\u001b[0m \u001b[0mrange\u001b[0m\u001b[0;34m(\u001b[0m\u001b[0mmolecules\u001b[0m\u001b[0;34m[\u001b[0m\u001b[0mindex\u001b[0m\u001b[0;34m]\u001b[0m\u001b[0;34m[\u001b[0m\u001b[0;34m'natom'\u001b[0m\u001b[0;34m]\u001b[0m\u001b[0;34m)\u001b[0m\u001b[0;34m:\u001b[0m\u001b[0;34m\u001b[0m\u001b[0m\n\u001b[0;32m----> 2\u001b[0;31m     \u001b[0mmlab\u001b[0m\u001b[0;34m.\u001b[0m\u001b[0mpoints3d\u001b[0m\u001b[0;34m(\u001b[0m\u001b[0mpositions\u001b[0m\u001b[0;34m[\u001b[0m\u001b[0mi\u001b[0m\u001b[0;34m,\u001b[0m\u001b[0;36m0\u001b[0m\u001b[0;34m]\u001b[0m\u001b[0;34m,\u001b[0m\u001b[0mpositions\u001b[0m\u001b[0;34m[\u001b[0m\u001b[0mi\u001b[0m\u001b[0;34m,\u001b[0m\u001b[0;36m1\u001b[0m\u001b[0;34m]\u001b[0m\u001b[0;34m,\u001b[0m\u001b[0mpositions\u001b[0m\u001b[0;34m[\u001b[0m\u001b[0mi\u001b[0m\u001b[0;34m,\u001b[0m\u001b[0;36m2\u001b[0m\u001b[0;34m]\u001b[0m\u001b[0;34m,\u001b[0m \u001b[0mcolor\u001b[0m\u001b[0;34m=\u001b[0m\u001b[0mcpk\u001b[0m\u001b[0;34m[\u001b[0m\u001b[0mspecies\u001b[0m\u001b[0;34m[\u001b[0m\u001b[0mi\u001b[0m\u001b[0;34m]\u001b[0m\u001b[0;34m]\u001b[0m\u001b[0;34m)\u001b[0m\u001b[0;34m\u001b[0m\u001b[0m\n\u001b[0m",
        "\u001b[0;31mIndexError\u001b[0m: list index out of range"
       ]
      }
     ],
     "prompt_number": 27
    }
   ],
   "metadata": {}
  }
 ]
}