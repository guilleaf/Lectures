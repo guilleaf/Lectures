{
 "metadata": {
  "name": "P5EP 1. Fibonacci Sequence and Golden Ratio"
 },
 "nbformat": 3,
 "nbformat_minor": 0,
 "worksheets": [
  {
   "cells": [
    {
     "cell_type": "heading",
     "level": 1,
     "metadata": {},
     "source": [
      "Python in 5 Easy Pieces"
     ]
    },
    {
     "cell_type": "markdown",
     "metadata": {},
     "source": [
      "This is one of the topical lectures created for a basic tutorial on scientific computing using Python.\n",
      "Each piece is motivated by a mathematical or scientific problem.\n",
      "The purpose of these mini-lectures is not completeness (if such thing could be even possible), but presenting a set of small cases motivated mostly in mathematics and presenting Python as a tool to solve scientific problems."
     ]
    },
    {
     "cell_type": "code",
     "collapsed": false,
     "input": [
      "%pylab inline"
     ],
     "language": "python",
     "metadata": {},
     "outputs": [
      {
       "output_type": "stream",
       "stream": "stdout",
       "text": [
        "\n",
        "Welcome to pylab, a matplotlib-based Python environment [backend: module://IPython.zmq.pylab.backend_inline].\n",
        "For more information, type 'help(pylab)'.\n"
       ]
      }
     ],
     "prompt_number": 1
    },
    {
     "cell_type": "heading",
     "level": 2,
     "metadata": {},
     "source": [
      "Piece 1. Fibonacci Sequences and Golden Ratio"
     ]
    },
    {
     "cell_type": "markdown",
     "metadata": {},
     "source": [
      "For this introduction to Python language, we will use the Fibonacci Sequence as an excuse to introduce the basics of the laguage. We will learn how to declare variables,\n",
      "making loops and defining functions.\n",
      "\n",
      "The Fibonacci sequence is a series of numbers generatated iteratively like this\n",
      "\n",
      "$F_n=F_{n-1}+F_{n-2}$\n",
      "\n",
      "where we can start with seeds $F_0=0$ and $F_1=1$\n",
      "\n",
      "Starting with those seeds we can compute $F_2$, $F_3$ and so on until an arbitrary large $F_n$\n",
      "\n",
      "The Fibonacci Sequence looks like this:\n",
      "\n",
      "$$0,\\; 1,\\;1,\\;2,\\;3,\\;5,\\;8,\\;13,\\;21,\\;34,\\;55,\\;89,\\;144,\\; \\ldots\\; $$\n",
      "\n",
      "Lets play with this in our first Python program.\n",
      "Python is modern and dynamic programming language. You can execute python code interactively as we will do here, but also you can write from small scripts to large programs, including libraries and interfaces with other programming languages.\n",
      "\n",
      "A comment in Python is simply created by prefixing the line with the symbol '#'. Everything until the end of the line will be considered as a comment and will not be interpreted.\n"
     ]
    },
    {
     "cell_type": "code",
     "collapsed": false,
     "input": [
      "# This is a simple comment for the Fibonnacci Sequence"
     ],
     "language": "python",
     "metadata": {},
     "outputs": [],
     "prompt_number": 2
    },
    {
     "cell_type": "markdown",
     "metadata": {},
     "source": [
      "Declaring variables is very easy, simply declare them as _variablename=value_"
     ]
    },
    {
     "cell_type": "code",
     "collapsed": false,
     "input": [
      "a=0\n",
      "b=1\n",
      "c=a+b\n",
      "d=b+c\n",
      "e=c+d"
     ],
     "language": "python",
     "metadata": {},
     "outputs": [],
     "prompt_number": 3
    },
    {
     "cell_type": "markdown",
     "metadata": {},
     "source": [
      "We can print those values using the print statement (In Python 2.x) or the print function (In Python 3.x)"
     ]
    },
    {
     "cell_type": "code",
     "collapsed": false,
     "input": [
      "print(a)\n",
      "print(b)\n",
      "print(c)\n",
      "print(d)\n",
      "print(e)"
     ],
     "language": "python",
     "metadata": {},
     "outputs": [
      {
       "output_type": "stream",
       "stream": "stdout",
       "text": [
        "0\n",
        "1\n",
        "1\n",
        "2\n",
        "3\n"
       ]
      }
     ],
     "prompt_number": 4
    },
    {
     "cell_type": "markdown",
     "metadata": {},
     "source": [
      "Now, we can create a 'list', one of the four important built-in sequences in python, the others are 'str', 'tuple', and 'unicode'.\n",
      "Lets take those 5 variables and create a list: "
     ]
    },
    {
     "cell_type": "code",
     "collapsed": false,
     "input": [
      "fib = [a, b, c, d, e]"
     ],
     "language": "python",
     "metadata": {},
     "outputs": [],
     "prompt_number": 5
    },
    {
     "cell_type": "markdown",
     "metadata": {},
     "source": [
      "Even if not enforced by the language, it is a rule of good style to separate the symbol '=' with spaces. Also, for clarity the symbol ',' separating items in the list should be separated by spaces. We can now see how our list looks like:"
     ]
    },
    {
     "cell_type": "code",
     "collapsed": false,
     "input": [
      "fib"
     ],
     "language": "python",
     "metadata": {},
     "outputs": [
      {
       "output_type": "pyout",
       "prompt_number": 6,
       "text": [
        "[0, 1, 1, 2, 3]"
       ]
      }
     ],
     "prompt_number": 6
    },
    {
     "cell_type": "markdown",
     "metadata": {},
     "source": [
      "A list is very convenient to store data that we can index by its position in the list. There are several expressions that we can use to get elements from a list:"
     ]
    },
    {
     "cell_type": "code",
     "collapsed": false,
     "input": [
      "fib[3]"
     ],
     "language": "python",
     "metadata": {},
     "outputs": [
      {
       "output_type": "pyout",
       "prompt_number": 7,
       "text": [
        "2"
       ]
      }
     ],
     "prompt_number": 7
    },
    {
     "cell_type": "markdown",
     "metadata": {},
     "source": [
      "Notice that the index on lists starts from 0 instead of 1. This is the usual way in other languages like C, but different from Fortran whose arrays start on 1.\n",
      "We can ask for the values starting from the end:"
     ]
    },
    {
     "cell_type": "code",
     "collapsed": false,
     "input": [
      "fib[-1]"
     ],
     "language": "python",
     "metadata": {},
     "outputs": [
      {
       "output_type": "pyout",
       "prompt_number": 8,
       "text": [
        "3"
       ]
      }
     ],
     "prompt_number": 8
    },
    {
     "cell_type": "markdown",
     "metadata": {},
     "source": [
      "Or asking for a subset of elements. Remember that we count starting from 0."
     ]
    },
    {
     "cell_type": "code",
     "collapsed": false,
     "input": [
      "fib[2:4]"
     ],
     "language": "python",
     "metadata": {},
     "outputs": [
      {
       "output_type": "pyout",
       "prompt_number": 9,
       "text": [
        "[1, 2]"
       ]
      }
     ],
     "prompt_number": 9
    },
    {
     "cell_type": "markdown",
     "metadata": {},
     "source": [
      "There is an easy way to know how many elements we are asking, just substract both values. In our example, fib[2:4] should return exactly $(4-2) = 2$ elements. If the beggining or the end is not present, the missing starting/ending point will be replaced by 0 or -1, ie, the beggining and end of the list"
     ]
    },
    {
     "cell_type": "code",
     "collapsed": false,
     "input": [
      "print(fib)\n",
      "print(fib[2:])\n",
      "print(fib[:3])"
     ],
     "language": "python",
     "metadata": {},
     "outputs": [
      {
       "output_type": "stream",
       "stream": "stdout",
       "text": [
        "[0, 1, 1, 2, 3]\n",
        "[1, 2, 3]\n",
        "[0, 1, 1]\n"
       ]
      }
     ],
     "prompt_number": 10
    },
    {
     "cell_type": "markdown",
     "metadata": {},
     "source": [
      "Loops is one of the most important statements for any programming language. In Python there is a 'for' loop and we can use it to generate le Fibonacci sequence. The 'for' loop requires a 'iterator' to move a variable between a series of values. One very used iterator is 'range'"
     ]
    },
    {
     "cell_type": "code",
     "collapsed": false,
     "input": [
      "range(10)"
     ],
     "language": "python",
     "metadata": {},
     "outputs": [
      {
       "output_type": "pyout",
       "prompt_number": 11,
       "text": [
        "[0, 1, 2, 3, 4, 5, 6, 7, 8, 9]"
       ]
      }
     ],
     "prompt_number": 11
    },
    {
     "cell_type": "markdown",
     "metadata": {},
     "source": [
      "If you are using Python 2.x you will see a list. In Python 3.x, you have to convert it into a list to actually see it, using the function 'list()'. Both works basically the same way for the level of this tutorial."
     ]
    },
    {
     "cell_type": "code",
     "collapsed": false,
     "input": [
      "list(range(10))"
     ],
     "language": "python",
     "metadata": {},
     "outputs": [
      {
       "output_type": "pyout",
       "prompt_number": 12,
       "text": [
        "[0, 1, 2, 3, 4, 5, 6, 7, 8, 9]"
       ]
      }
     ],
     "prompt_number": 12
    },
    {
     "cell_type": "markdown",
     "metadata": {},
     "source": [
      "Now we can introduce a for loop to see the first 10 elements in the Fibonacci sequence"
     ]
    },
    {
     "cell_type": "code",
     "collapsed": false,
     "input": [
      "a = 0\n",
      "b = 1\n",
      "print(a)\n",
      "print(b)\n",
      "for i in range(10):\n",
      "    c = a+b\n",
      "    print(c)\n",
      "    a = b\n",
      "    b = c\n",
      "    "
     ],
     "language": "python",
     "metadata": {},
     "outputs": [
      {
       "output_type": "stream",
       "stream": "stdout",
       "text": [
        "0\n",
        "1\n",
        "1\n",
        "2\n",
        "3\n",
        "5\n",
        "8\n",
        "13\n",
        "21\n",
        "34\n",
        "55\n",
        "89\n"
       ]
      }
     ],
     "prompt_number": 13
    },
    {
     "cell_type": "markdown",
     "metadata": {},
     "source": [
      "This is a simple way to iteratively generating the Fibonacci sequence. Now, imagine that we want to store the values of the sequence. Lists are objects, something that we will see later. \n",
      "For now we just need to know that there is a function (a method in Object-Oriented Programming) that allow us to add elements to a list. The append method:"
     ]
    },
    {
     "cell_type": "code",
     "collapsed": false,
     "input": [
      "fib = [0, 1]\n",
      "for i in range(1,11):\n",
      "    fib.append(fib[i]+fib[i-1])\n",
      "print(fib)"
     ],
     "language": "python",
     "metadata": {},
     "outputs": [
      {
       "output_type": "stream",
       "stream": "stdout",
       "text": [
        "[0, 1, 1, 2, 3, 5, 8, 13, 21, 34, 55, 89]\n"
       ]
      }
     ],
     "prompt_number": 14
    },
    {
     "cell_type": "markdown",
     "metadata": {},
     "source": [
      "The append method works by adding the element at the end of the list. "
     ]
    },
    {
     "cell_type": "markdown",
     "metadata": {},
     "source": [
      "There is something important about objects such as lists in Python. Observe this example:"
     ]
    },
    {
     "cell_type": "code",
     "collapsed": false,
     "input": [
      "a=[1,2]\n",
      "b=a\n",
      "b[0]='house'\n",
      "print(a)\n",
      "print(b)"
     ],
     "language": "python",
     "metadata": {},
     "outputs": [
      {
       "output_type": "stream",
       "stream": "stdout",
       "text": [
        "['house', 2]\n",
        "['house', 2]\n"
       ]
      }
     ],
     "prompt_number": 15
    },
    {
     "cell_type": "markdown",
     "metadata": {},
     "source": [
      "Two unexpected behaviors.\n",
      "First, list could contain elements of different data types, in this case strings and integers. In fact, you can make lists of practically anything even objects, functions, etc. \n",
      "Second, when we declare 'b=a' and changing b the values of a were also changed. That kind of behavior does not happen for literals"
     ]
    },
    {
     "cell_type": "code",
     "collapsed": false,
     "input": [
      "x=5\n",
      "y=x\n",
      "x=6\n",
      "print x\n",
      "print y"
     ],
     "language": "python",
     "metadata": {},
     "outputs": [
      {
       "output_type": "stream",
       "stream": "stdout",
       "text": [
        "6\n",
        "5\n"
       ]
      }
     ],
     "prompt_number": 16
    },
    {
     "cell_type": "markdown",
     "metadata": {},
     "source": [
      "Another way of understand this is looking at the memory locations of the variables:\n",
      "For example for 'a' and 'b':"
     ]
    },
    {
     "cell_type": "code",
     "collapsed": false,
     "input": [
      "id(a)"
     ],
     "language": "python",
     "metadata": {},
     "outputs": [
      {
       "output_type": "pyout",
       "prompt_number": 17,
       "text": [
        "63496136"
       ]
      }
     ],
     "prompt_number": 17
    },
    {
     "cell_type": "code",
     "collapsed": false,
     "input": [
      "id(b)"
     ],
     "language": "python",
     "metadata": {},
     "outputs": [
      {
       "output_type": "pyout",
       "prompt_number": 18,
       "text": [
        "63496136"
       ]
      }
     ],
     "prompt_number": 18
    },
    {
     "cell_type": "markdown",
     "metadata": {},
     "source": [
      "They are pointing to the same memory address. Any change on 'a' will be also a change in 'b'. Now lets see how it works for 'a' and 'b':"
     ]
    },
    {
     "cell_type": "code",
     "collapsed": false,
     "input": [
      "id(x)"
     ],
     "language": "python",
     "metadata": {},
     "outputs": [
      {
       "output_type": "pyout",
       "prompt_number": 19,
       "text": [
        "30612528"
       ]
      }
     ],
     "prompt_number": 19
    },
    {
     "cell_type": "code",
     "collapsed": false,
     "input": [
      "id(y)"
     ],
     "language": "python",
     "metadata": {},
     "outputs": [
      {
       "output_type": "pyout",
       "prompt_number": 20,
       "text": [
        "30612552"
       ]
      }
     ],
     "prompt_number": 20
    },
    {
     "cell_type": "markdown",
     "metadata": {},
     "source": [
      "Both variables are now pointing to different positions in memory. Lets continue with the fibonacci function.\n",
      "Python supports procedural programming, we can create a fibonacci function to return the fibonacci number for an arbitrary iteration, see for example:"
     ]
    },
    {
     "cell_type": "code",
     "collapsed": false,
     "input": [
      "def fibonacci_recursive(n):\n",
      "    if n < 2:\n",
      "        return n\n",
      "    else:\n",
      "        return fibonacci_recursive(n-2) + fibonacci_recursive(n-1)"
     ],
     "language": "python",
     "metadata": {},
     "outputs": [],
     "prompt_number": 21
    },
    {
     "cell_type": "code",
     "collapsed": false,
     "input": [
      "fibonacci_recursive(6)"
     ],
     "language": "python",
     "metadata": {},
     "outputs": [
      {
       "output_type": "pyout",
       "prompt_number": 22,
       "text": [
        "8"
       ]
      }
     ],
     "prompt_number": 22
    },
    {
     "cell_type": "markdown",
     "metadata": {},
     "source": [
      "We can recreate the list using this function, see the next code:"
     ]
    },
    {
     "cell_type": "code",
     "collapsed": false,
     "input": [
      "print [ fibonacci_recursive(n) for n in range (20) ]"
     ],
     "language": "python",
     "metadata": {},
     "outputs": [
      {
       "output_type": "stream",
       "stream": "stdout",
       "text": [
        "[0, 1, 1, 2, 3, 5, 8, 13, 21, 34, 55, 89, 144, 233, 377, 610, 987, 1597, 2584, 4181]\n"
       ]
      }
     ],
     "prompt_number": 23
    },
    {
     "cell_type": "markdown",
     "metadata": {},
     "source": [
      "This is called a list comprehension. List comprehensions provide a concise way to create lists. List comprehensions could be intimidating for begginers but they are an elegant way of avoiding an explicit loop and still keeping the legibility of the code. There is another way to obtain the same result using the so called lambda functions:"
     ]
    },
    {
     "cell_type": "code",
     "collapsed": false,
     "input": [
      "print map(lambda x: fibonacci_recursive(x), range(20))"
     ],
     "language": "python",
     "metadata": {},
     "outputs": [
      {
       "output_type": "stream",
       "stream": "stdout",
       "text": [
        "[0, 1, 1, 2, 3, 5, 8, 13, 21, 34, 55, 89, 144, 233, 377, 610, 987, 1597, 2584, 4181]\n"
       ]
      }
     ],
     "prompt_number": 24
    },
    {
     "cell_type": "markdown",
     "metadata": {},
     "source": [
      "lambda functions are some sort of anonymous functions. They are indeed very popular in functional programming and Python with its multiparadigm style makes lambda functions common place in many situations."
     ]
    },
    {
     "cell_type": "markdown",
     "metadata": {},
     "source": [
      "Still, using fibonacci_recursive is more and more inefficient as n increases. The larger the value of n more calls to fibonacci_recursive are necessary. "
     ]
    },
    {
     "cell_type": "markdown",
     "metadata": {},
     "source": [
      "There is an elegant solucion to use the redundant recursion:"
     ]
    },
    {
     "cell_type": "code",
     "collapsed": false,
     "input": [
      "def fibonacci_fastrec(n):\n",
      "    def fib(prvprv, prv, c):\n",
      "        if c < 1: return prvprv\n",
      "        else: return fib(prv, prvprv + prv, c - 1) \n",
      "    return fib(0, 1, n)"
     ],
     "language": "python",
     "metadata": {},
     "outputs": [],
     "prompt_number": 25
    },
    {
     "cell_type": "code",
     "collapsed": false,
     "input": [
      "print [ fibonacci_fastrec(n) for n in range (20) ]"
     ],
     "language": "python",
     "metadata": {},
     "outputs": [
      {
       "output_type": "stream",
       "stream": "stdout",
       "text": [
        "[0, 1, 1, 2, 3, 5, 8, 13, 21, 34, 55, 89, 144, 233, 377, 610, 987, 1597, 2584, 4181]\n"
       ]
      }
     ],
     "prompt_number": 26
    },
    {
     "cell_type": "markdown",
     "metadata": {},
     "source": [
      "This solution is still recursive but avoiding te two fold recursion from the first function."
     ]
    },
    {
     "cell_type": "code",
     "collapsed": false,
     "input": [
      "%timeit [fibonacci_fastrec(n) for n in range (20)]"
     ],
     "language": "python",
     "metadata": {},
     "outputs": [
      {
       "output_type": "stream",
       "stream": "stdout",
       "text": [
        "10000 loops, best of 3: 135 us per loop\n"
       ]
      }
     ],
     "prompt_number": 27
    },
    {
     "cell_type": "code",
     "collapsed": false,
     "input": [
      "%timeit [fibonacci_recursive(n) for n in range (20)]"
     ],
     "language": "python",
     "metadata": {},
     "outputs": [
      {
       "output_type": "stream",
       "stream": "stdout",
       "text": [
        "10 loops, best of 3: 16 ms per loop\n"
       ]
      }
     ],
     "prompt_number": 28
    },
    {
     "cell_type": "markdown",
     "metadata": {},
     "source": [
      "%timeit is not a Python command. It is a magic command of IPython, however Python itself provides a more restritive functionality"
     ]
    },
    {
     "cell_type": "markdown",
     "metadata": {},
     "source": [
      "Finally, there is also an analytical expression for the Fibonacci sequence, so the entire recursion could be avoided."
     ]
    },
    {
     "cell_type": "code",
     "collapsed": false,
     "input": [
      "from math import sqrt\n",
      " \n",
      "def analytic_fibonacci(n):\n",
      "  sqrt_5 = sqrt(5);\n",
      "  p = (1 + sqrt_5) / 2;\n",
      "  q = 1/p;\n",
      "  return int( (p**n + q**n) / sqrt_5 + 0.5 )\n",
      " "
     ],
     "language": "python",
     "metadata": {},
     "outputs": [],
     "prompt_number": 29
    },
    {
     "cell_type": "code",
     "collapsed": false,
     "input": [
      "print [ analytic_fibonacci(n) for n in range (20) ]"
     ],
     "language": "python",
     "metadata": {},
     "outputs": [
      {
       "output_type": "stream",
       "stream": "stdout",
       "text": [
        "[1, 1, 1, 2, 3, 5, 8, 13, 21, 34, 55, 89, 144, 233, 377, 610, 987, 1597, 2584, 4181]\n"
       ]
      }
     ],
     "prompt_number": 30
    },
    {
     "cell_type": "code",
     "collapsed": false,
     "input": [
      "%timeit [analytic_fibonacci(n) for n in range (20)]"
     ],
     "language": "python",
     "metadata": {},
     "outputs": [
      {
       "output_type": "stream",
       "stream": "stdout",
       "text": [
        "10000 loops, best of 3: 64.3 us per loop\n"
       ]
      }
     ],
     "prompt_number": 31
    },
    {
     "cell_type": "markdown",
     "metadata": {},
     "source": [
      "The analytical definition fails for the ver first value but reproduces the sequence after that"
     ]
    },
    {
     "cell_type": "markdown",
     "metadata": {},
     "source": [
      "There is an interesting property of the Fibonacci sequence, the ratio between consecutive elements converges to a finite value, lets see that also with a list comprehension"
     ]
    },
    {
     "cell_type": "code",
     "collapsed": false,
     "input": [
      "fib= [fibonacci_fastrec(n) for n in range (10)]\n",
      "X=[ float(x)/float(y) for x,y in zip(fib[2:],fib[1:-1]) ]\n",
      "X"
     ],
     "language": "python",
     "metadata": {},
     "outputs": [
      {
       "output_type": "pyout",
       "prompt_number": 32,
       "text": [
        "[1.0,\n",
        " 2.0,\n",
        " 1.5,\n",
        " 1.6666666666666667,\n",
        " 1.6,\n",
        " 1.625,\n",
        " 1.6153846153846154,\n",
        " 1.619047619047619]"
       ]
      }
     ],
     "prompt_number": 32
    },
    {
     "cell_type": "markdown",
     "metadata": {},
     "source": [
      "This is another way to make list comprehensions returning a tuple of values"
     ]
    },
    {
     "cell_type": "code",
     "collapsed": false,
     "input": [
      "import matplotlib.pyplot as plt\n",
      "plt.plot(X);"
     ],
     "language": "python",
     "metadata": {},
     "outputs": [
      {
       "output_type": "display_data",
       "png": "[encoded data removed]"
      }
     ],
     "prompt_number": 33
    },
    {
     "cell_type": "markdown",
     "metadata": {},
     "source": [
      "The asymptotic value of the ratio is called the Golden Ratio, its value is $\\varphi = \\frac{1+\\sqrt{5}}{2} = 1.6180339887\\ldots.$"
     ]
    }
   ],
   "metadata": {}
  }
 ]
}