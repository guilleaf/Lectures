{
 "metadata": {
  "name": "P5EP 2. Quaternions"
 },
 "nbformat": 3,
 "nbformat_minor": 0,
 "worksheets": [
  {
   "cells": [
    {
     "cell_type": "heading",
     "level": 1,
     "metadata": {},
     "source": [
      "Python in 5 Easy Pieces"
     ]
    },
    {
     "cell_type": "heading",
     "level": 2,
     "metadata": {},
     "source": [
      "Quaternions"
     ]
    },
    {
     "cell_type": "markdown",
     "metadata": {},
     "source": [
      "We are used to work with several numeric systems, for example:\n",
      "\n",
      "     Natural numbers:\n",
      "$$\\mathbb{N} \\rightarrow 0, 1, 2, 3, 4, \\cdots \\; \\text{or}\\;  1, 2, 3, 4, \\cdots$$\n",
      "\n",
      "    Integer numbers:\n",
      "$$\\mathbb{Z} \\rightarrow \\cdots, \u22125, \u22124, \u22123, \u22122, \u22121, 0, 1, 2, 3, 4, 5, \\cdots$$\n",
      "\n",
      "    Rational numbers:\n",
      "$$\\mathbb{Q} \\rightarrow \\frac{a}{b} \\;\\mathrm{where}\\;  a \\text{and}\\; b  \\in \\mathbb{Z} \\; \\mathrm{and}\\; b \\neq 0$$\n",
      "\n",
      "    Real numbers:\n",
      "$$\\mathbb{R} \\rightarrow \\text{The limit of a convergent sequence of rational numbers. examples:}\\;  \\pi=3.1415..., \\phi=1.61803..., etc$$\n",
      "\n",
      "    Complex numbers:\n",
      "$$\\mathbb{C} \\rightarrow a + b i \\;\\text{or}\\; a +  i b \\;\\text{where}\\; a \\;\\text{and}\\; b \\in \\mathbb{R} \\;\\text{and}\\; i=\\sqrt{\u22121}$$\n",
      "\n",
      "There are, however other sets of numbers, some of them are  called **hypercomplex numbers**. They include the **Quaternions** $\\mathbb{H}$, invented by Sir William Rowan Hamilton, in which multiplication is not _commutative_, and the **Octonions** $\\mathbb{O}$, in which multiplication is _not associative_.\n",
      "\n",
      "We will used the Quaternions as excuse to introduce key concepts in object oriented programming using Python. Complex numbers can be thought of as tuples of real numbers. Every complex is a real **linear combination** of the _unit complex_:\n",
      "\n",
      "$$\\lbrace e_0, e_1, \\rbrace$$\n",
      "\n",
      "There are rules about how to multiply complex numbers. They can be expressed in the following table:\n",
      "\n",
      "<style type=\"text/css\">\n",
      ".tg  {border-collapse:collapse;border-spacing:0;}\n",
      ".tg td{font-family:Arial, sans-serif;font-size:14px;padding:10px 20px;border-style:solid;border-width:1px;overflow:hidden;word-break:normal;}\n",
      ".tg th{font-family:Arial, sans-serif;font-size:14px;font-weight:normal;padding:10px 20px;border-style:solid;border-width:1px;overflow:hidden;word-break:normal;}\n",
      "</style>\n",
      "<table class=\"tg\">\n",
      "  <tr>\n",
      "    <th class=\"tg-031e\">$\\times$</th>\n",
      "    <th class=\"tg-031e\">$1$</th>\n",
      "    <th class=\"tg-031e\">$i$</th>\n",
      "  </tr>\n",
      "  <tr>\n",
      "    <td class=\"tg-031e\">$1$</td>\n",
      "    <td class=\"tg-031e\">$1$</td>\n",
      "    <td class=\"tg-031e\">$i$</td>\n",
      "  </tr>\n",
      "  <tr>\n",
      "    <td class=\"tg-031e\">$i$</td>\n",
      "    <td class=\"tg-031e\">$i$</td>\n",
      "    <td class=\"tg-031e\">$-1$</td>\n",
      "  </tr>\n",
      "</table>\n",
      "\n",
      "Similarly, Quaternions can be thought of as 4-tuples of real numbers. Each Quatrnion is a real **linear combination** of the _unit quaternion set_:\n",
      "\n",
      "$$\\lbrace e_0, e_1, e_2, e_3 \\rbrace$$\n",
      "\n",
      "The rules about how to multiply Quaternions are different from Complex and Reals. They can be expressed in the following table:\n",
      "\n",
      "<style type=\"text/css\">\n",
      ".tg  {border-collapse:collapse;border-spacing:0;}\n",
      ".tg td{font-family:Arial, sans-serif;font-size:14px;padding:10px 20px;border-style:solid;border-width:1px;overflow:hidden;word-break:normal;}\n",
      ".tg th{font-family:Arial, sans-serif;font-size:14px;font-weight:normal;padding:10px 20px;border-style:solid;border-width:1px;overflow:hidden;word-break:normal;}\n",
      "</style>\n",
      "<table class=\"tg\">\n",
      "  <tr>\n",
      "    <th class=\"tg-031e\">$\\times$</th>\n",
      "    <th class=\"tg-031e\">$1$</th>\n",
      "    <th class=\"tg-031e\">$i$</th>\n",
      "    <th class=\"tg-031e\">$j$</th>\n",
      "    <th class=\"tg-031e\">$k$</th>\n",
      "  </tr>\n",
      "  <tr>\n",
      "    <td class=\"tg-031e\">$1$</td>\n",
      "    <td class=\"tg-031e\">$1$</td>\n",
      "    <td class=\"tg-031e\">$i$</td>\n",
      "    <td class=\"tg-031e\">$j$<br></td>\n",
      "    <td class=\"tg-031e\">$k$</td>\n",
      "  </tr>\n",
      "  <tr>\n",
      "    <td class=\"tg-031e\">$i$</td>\n",
      "    <td class=\"tg-031e\">$i$</td>\n",
      "    <td class=\"tg-031e\">$-1$</td>\n",
      "    <td class=\"tg-031e\">$k$</td>\n",
      "    <td class=\"tg-031e\">$-j$</td>\n",
      "  </tr>\n",
      "  <tr>\n",
      "    <td class=\"tg-031e\">$j$</td>\n",
      "    <td class=\"tg-031e\">$j$</td>\n",
      "    <td class=\"tg-031e\">$-k$</td>\n",
      "    <td class=\"tg-031e\">$-1$</td>\n",
      "    <td class=\"tg-031e\">$i$</td>\n",
      "  </tr>\n",
      "  <tr>\n",
      "    <td class=\"tg-031e\">$k$</td>\n",
      "    <td class=\"tg-031e\">$k$</td>\n",
      "    <td class=\"tg-031e\">$j$</td>\n",
      "    <td class=\"tg-031e\">$-i$</td>\n",
      "    <td class=\"tg-031e\">$-1$</td>\n",
      "  </tr>\n",
      "</table>\n",
      "\n",
      "Our objective is to create a Python Class that could deal with Quaternions as simple and direct as possible. A class is a concept from Object-Oriented programming that allow to abstract the idea of an object. An object is something that has properties and is able to do things. In our case we will create a _class_ Quaternion. Instances of the class will be specific quaternions. We can do things with quaternions such as _add_ two quaternions, multiply them using the multiplication rule above, we can do pretty much the same kind of things that we can expect from complex numbers but in a rather more elaborated way. Let us create a first our first version of the class Quaternion and we will improve it later on.\n"
     ]
    },
    {
     "cell_type": "code",
     "collapsed": false,
     "input": [
      "from numbers import Number\n",
      "from math import sqrt\n",
      "\n",
      "class Quaternion():\n",
      "    \n",
      "    def __init__(self,value=None):\n",
      "        if value is None:\n",
      "            self.values = tuple((0,0,0,0))\n",
      "        elif isinstance(value,(int,float,long)):\n",
      "            self.values = tuple((value, 0, 0, 0))\n",
      "        elif isinstance(value,complex):\n",
      "            self.values = tuple((value.real, value.imag, 0, 0))\n",
      "        elif isinstance(value,(tuple, list)):\n",
      "            self.values = tuple(value)\n",
      "\n",
      "    def __eq__(self,other):\n",
      "        if isinstance(other, Number):\n",
      "            other= self.__class__(other)\n",
      "        return self.values == other.values\n",
      "        \n",
      "    __req__ = __eq__\n",
      "            \n",
      "    \n",
      "    def __str__(self):\n",
      "        sigii = '+' if self.values[1] >= 0 else '-'\n",
      "        sigjj = '+' if self.values[2] >= 0 else '-'\n",
      "        sigkk = '+' if self.values[3] >= 0 else '-'\n",
      "        return \"%.3f %s %.3f i %s %.3f j %s %.3f k\" % ( self.values[0], sigii, abs(self.values[1]), sigjj, abs(self.values[2]), sigkk, abs(self.values[3])) \n",
      "        \n",
      "    def __repr__(self):\n",
      "        return 'Quaternion('+str(self.values)+')'\n",
      "\n",
      "    @property\n",
      "    def scalar_part(self):\n",
      "        return self.values[0]\n",
      "    \n",
      "    @property\n",
      "    def vector_part(self):\n",
      "        return self.values[1:]\n",
      "\n",
      "    @staticmethod\n",
      "    def one():\n",
      "        return Quaternion((1,0,0,0))\n",
      "\n",
      "    @staticmethod\n",
      "    def ii():\n",
      "        return Quaternion((0,1,0,0))\n",
      "    \n",
      "    @staticmethod\n",
      "    def jj():\n",
      "        return Quaternion((0,0,1,0))\n",
      "\n",
      "    @staticmethod\n",
      "    def kk():\n",
      "        return Quaternion((0,0,0,1))\n",
      "    \n",
      "    def __add__(self, other):\n",
      "        if isinstance(other, Number):\n",
      "            other = self.__class__(other)\n",
      "        ret=[0,0,0,0]\n",
      "        for i in range(4):\n",
      "            ret[i]=self.values[i]+other.values[i]\n",
      "        return self.__class__(ret)\n",
      "    \n",
      "    __radd__ = __add__\n",
      "\n",
      "    \n",
      "    def __mul__(self, other):\n",
      "        if isinstance(other, Number):\n",
      "            other = self.__class__(other)\n",
      "        ret = [0,0,0,0]\n",
      "        ret[0] = self.values[0]*other.values[0]-self.values[1]*other.values[1]-self.values[2]*other.values[2]-self.values[3]*other.values[3]\n",
      "        ret[1] = self.values[0]*other.values[1]+self.values[1]*other.values[0]+self.values[2]*other.values[3]-self.values[3]*other.values[2]\n",
      "        ret[2] = self.values[0]*other.values[2]+self.values[2]*other.values[0]+self.values[3]*other.values[1]-self.values[1]*other.values[3]\n",
      "        ret[3] = self.values[0]*other.values[3]+self.values[3]*other.values[0]+self.values[1]*other.values[2]-self.values[2]*other.values[1]\n",
      "        return self.__class__(ret)\n",
      "\n",
      "    def __rmul__(self, other):\n",
      "        if isinstance(other, Number):\n",
      "            other= self.__class__(other)\n",
      "        ret = [0,0,0,0]\n",
      "        ret[0] = self.values[0]*other.values[0]-self.values[1]*other.values[1]-self.values[2]*other.values[2]-self.values[3]*other.values[3]\n",
      "        ret[1] = self.values[0]*other.values[1]+self.values[1]*other.values[0]-self.values[2]*other.values[3]+self.values[3]*other.values[2]\n",
      "        ret[2] = self.values[0]*other.values[2]+self.values[2]*other.values[0]-self.values[3]*other.values[1]+self.values[1]*other.values[3]\n",
      "        ret[3] = self.values[0]*other.values[3]+self.values[3]*other.values[0]-self.values[1]*other.values[2]+self.values[2]*other.values[1]\n",
      "        return self.__class__(ret)\n",
      "\n",
      "    def norm(self):\n",
      "        return sqrt(self.values[0]*self.values[0]+self.values[1]*self.values[1]+self.values[2]*self.values[2]+self.values[3]*self.values[3])\n",
      "    \n",
      "    def conjugate(self):\n",
      "        return Quaternion((self.values[0], -self.values[1], -self.values[2], -self.values[3] ))\n",
      "    \n",
      "    def inverse(self):\n",
      "        return self.conjugate()*(1.0/self.norm()**2)\n",
      "    \n",
      "    def unitary(self):\n",
      "        return self*(1.0/self.norm())"
     ],
     "language": "python",
     "metadata": {},
     "outputs": [],
     "prompt_number": 1
    },
    {
     "cell_type": "markdown",
     "metadata": {},
     "source": [
      "Lets explore in detail all the code above. When a new object of the class Quaternion is created the python interpreter calls the `__init__` method. The values could be entered as _tuple_ or _list_, internally the four values of the Quaternion will be stored in a tuple. See now some examples of Quaternions created explicitelly:"
     ]
    },
    {
     "cell_type": "code",
     "collapsed": false,
     "input": [
      "Quaternion([0,2,3.7,9]) "
     ],
     "language": "python",
     "metadata": {},
     "outputs": [
      {
       "output_type": "pyout",
       "prompt_number": 2,
       "text": [
        "Quaternion((0, 2, 3.7, 9))"
       ]
      }
     ],
     "prompt_number": 2
    },
    {
     "cell_type": "code",
     "collapsed": false,
     "input": [
      "Quaternion((2,5,0,8))"
     ],
     "language": "python",
     "metadata": {},
     "outputs": [
      {
       "output_type": "pyout",
       "prompt_number": 3,
       "text": [
        "Quaternion((2, 5, 0, 8))"
       ]
      }
     ],
     "prompt_number": 3
    },
    {
     "cell_type": "code",
     "collapsed": false,
     "input": [
      "Quaternion()"
     ],
     "language": "python",
     "metadata": {},
     "outputs": [
      {
       "output_type": "pyout",
       "prompt_number": 4,
       "text": [
        "Quaternion((0, 0, 0, 0))"
       ]
      }
     ],
     "prompt_number": 4
    },
    {
     "cell_type": "code",
     "collapsed": false,
     "input": [
      "Quaternion(3)"
     ],
     "language": "python",
     "metadata": {},
     "outputs": [
      {
       "output_type": "pyout",
       "prompt_number": 5,
       "text": [
        "Quaternion((3, 0, 0, 0))"
       ]
      }
     ],
     "prompt_number": 5
    },
    {
     "cell_type": "code",
     "collapsed": false,
     "input": [
      "Quaternion(3+4j)"
     ],
     "language": "python",
     "metadata": {},
     "outputs": [
      {
       "output_type": "pyout",
       "prompt_number": 6,
       "text": [
        "Quaternion((3.0, 4.0, 0, 0))"
       ]
      }
     ],
     "prompt_number": 6
    },
    {
     "cell_type": "markdown",
     "metadata": {},
     "source": [
      "The text in the output is a representation of the object Quaternion. This representation is obtained by the python interpreter by calling the `__repr__` method.\n",
      "The `__repr__` (also used as `repr()` ) method is intended to create an `eval()`-uable string of the object. You can see that in the next example:"
     ]
    },
    {
     "cell_type": "code",
     "collapsed": false,
     "input": [
      "a=Quaternion((2, 5, 0, 8))\n",
      "repr(a)"
     ],
     "language": "python",
     "metadata": {},
     "outputs": [
      {
       "output_type": "pyout",
       "prompt_number": 7,
       "text": [
        "'Quaternion((2, 5, 0, 8))'"
       ]
      }
     ],
     "prompt_number": 7
    },
    {
     "cell_type": "code",
     "collapsed": false,
     "input": [
      "b=eval(repr(a))\n",
      "repr(b)"
     ],
     "language": "python",
     "metadata": {},
     "outputs": [
      {
       "output_type": "pyout",
       "prompt_number": 8,
       "text": [
        "'Quaternion((2, 5, 0, 8))'"
       ]
      }
     ],
     "prompt_number": 8
    },
    {
     "cell_type": "markdown",
     "metadata": {},
     "source": [
      "We create a new Quaternion _b_ using the representation of Quaternion _a_. We can also test that _a_ and _b_ are equal using the `__eq__` method "
     ]
    },
    {
     "cell_type": "code",
     "collapsed": false,
     "input": [
      "a == b"
     ],
     "language": "python",
     "metadata": {},
     "outputs": [
      {
       "output_type": "pyout",
       "prompt_number": 9,
       "text": [
        "True"
       ]
      }
     ],
     "prompt_number": 9
    },
    {
     "cell_type": "markdown",
     "metadata": {},
     "source": [
      "In the case below we are comparing a Quaternion with an Integer, the method `__eq__` will first create a new Quaternion from the Integer and after will test for equality "
     ]
    },
    {
     "cell_type": "code",
     "collapsed": false,
     "input": [
      "Quaternion((3,0,0,0)) == 3"
     ],
     "language": "python",
     "metadata": {},
     "outputs": [
      {
       "output_type": "pyout",
       "prompt_number": 10,
       "text": [
        "True"
       ]
      }
     ],
     "prompt_number": 10
    },
    {
     "cell_type": "markdown",
     "metadata": {},
     "source": [
      "This example is rather different a complex number has no method to compare with Quaternion, so it will try to use the reverse equality `__req__`. \n",
      "As the equality is simmetric for Quaternions the line `__req__ = __eq__` is making the method `__req__` referencing the method `__eq__` with reverse arguments"
     ]
    },
    {
     "cell_type": "code",
     "collapsed": false,
     "input": [
      "3+4j == Quaternion((3,4,0,0))"
     ],
     "language": "python",
     "metadata": {},
     "outputs": [
      {
       "output_type": "pyout",
       "prompt_number": 11,
       "text": [
        "True"
       ]
      }
     ],
     "prompt_number": 11
    },
    {
     "cell_type": "markdown",
     "metadata": {},
     "source": [
      "Similarly as a complex number is composed of **real** and **imaginary** parts, a quaternion is can be decomposed of a **scalar** and **vector** part. We can create methods to return those parts. We add two methods `scalar_part` and `vector_part` to return the corresponding elements of the quaternion. The text `@property` is a decorator, this special decorator makes those methods look like read-only variables when in fact they are slices of the internal variable `self.values` . Notice that when we are calling the properties `scalar_part` and `vector_part` the parentesis are no longer present "
     ]
    },
    {
     "cell_type": "code",
     "collapsed": false,
     "input": [
      "b"
     ],
     "language": "python",
     "metadata": {},
     "outputs": [
      {
       "output_type": "pyout",
       "prompt_number": 12,
       "text": [
        "Quaternion((2, 5, 0, 8))"
       ]
      }
     ],
     "prompt_number": 12
    },
    {
     "cell_type": "code",
     "collapsed": false,
     "input": [
      "b.scalar_part"
     ],
     "language": "python",
     "metadata": {},
     "outputs": [
      {
       "output_type": "pyout",
       "prompt_number": 13,
       "text": [
        "2"
       ]
      }
     ],
     "prompt_number": 13
    },
    {
     "cell_type": "code",
     "collapsed": false,
     "input": [
      "b.vector_part"
     ],
     "language": "python",
     "metadata": {},
     "outputs": [
      {
       "output_type": "pyout",
       "prompt_number": 14,
       "text": [
        "(5, 0, 8)"
       ]
      }
     ],
     "prompt_number": 14
    },
    {
     "cell_type": "markdown",
     "metadata": {},
     "source": [
      "The elements of this basis are customarily denoted as _1_, _i_, _j_, and _k_. Every element of $\\mathbb{H}$ can be uniquely written as a linear combination of these basis elements, that is, as a _1_ + b _i_ + c _j_ + d _k_, where a, b, c, and d are real numbers. The basis element _1_ will be the identity element of $\\mathbb{H}$, meaning that multiplication by 1 does nothing, and for this reason, elements of H are usually written a _1_ + b _i_ + c _j_ + d _k_, suppressing the basis element _1_. Let us create the elements of the base using the four `static methods` that we defined above as one, ii, jj, kk. Those methods are very special. First, they are decorated using `@staticmethod` indicating that they are called without an instance. For that reason the argument `self` does not appear in the list of arguments. See above how they are used here to create our 4 unitary Quaternions"
     ]
    },
    {
     "cell_type": "code",
     "collapsed": false,
     "input": [
      "one=Quaternion().one()\n",
      "iii=Quaternion().ii()\n",
      "jjj=Quaternion().jj()\n",
      "kkk=Quaternion().kk()"
     ],
     "language": "python",
     "metadata": {},
     "outputs": [],
     "prompt_number": 15
    },
    {
     "cell_type": "markdown",
     "metadata": {},
     "source": [
      "There is another interesting method that we will used here. It is the `__str__`. The method `__str_` is similar to `__repr__` in the sense that both produces string representations\n",
      "of the object, but `__str__` is intended to be human readable but `__repr__` should be `eval()-able`"
     ]
    },
    {
     "cell_type": "code",
     "collapsed": false,
     "input": [
      "print one\n",
      "print iii\n",
      "print jjj\n",
      "print kkk"
     ],
     "language": "python",
     "metadata": {},
     "outputs": [
      {
       "output_type": "stream",
       "stream": "stdout",
       "text": [
        "1.000 + 0.000 i + 0.000 j + 0.000 k\n",
        "0.000 + 1.000 i + 0.000 j + 0.000 k\n",
        "0.000 + 0.000 i + 1.000 j + 0.000 k\n",
        "0.000 + 0.000 i + 0.000 j + 1.000 k\n"
       ]
      }
     ],
     "prompt_number": 16
    },
    {
     "cell_type": "markdown",
     "metadata": {},
     "source": [
      "The sum of quaternions is very straightforward. We implement the sum of quaternions using the special method `__add__` and `__radd__`. \n",
      "The first one is used in cases where the first argument is a quaternion"
     ]
    },
    {
     "cell_type": "code",
     "collapsed": false,
     "input": [
      "print iii+jjj"
     ],
     "language": "python",
     "metadata": {},
     "outputs": [
      {
       "output_type": "stream",
       "stream": "stdout",
       "text": [
        "0.000 + 1.000 i + 1.000 j + 0.000 k\n"
       ]
      }
     ],
     "prompt_number": 17
    },
    {
     "cell_type": "markdown",
     "metadata": {},
     "source": [
      "Also for computing sums of quaternions with other numbers using an internal conversion to quaternion. Notice that complex numbers in python use the symbol _j_ instead of _i_. But the `__str__` method is creating an string in the traditional way, printing i to indicate the imaginary component."
     ]
    },
    {
     "cell_type": "code",
     "collapsed": false,
     "input": [
      "print kkk+ 3 + 7j"
     ],
     "language": "python",
     "metadata": {},
     "outputs": [
      {
       "output_type": "stream",
       "stream": "stdout",
       "text": [
        "3.000 + 7.000 i + 0.000 j + 1.000 k\n"
       ]
      }
     ],
     "prompt_number": 18
    },
    {
     "cell_type": "markdown",
     "metadata": {},
     "source": [
      "The reverse operation `__radd__` is used in cases where the direct operation fails. \n",
      "The complex number class has no method to add quaternions, so python will try the reverse operation `__radd__` instead, in this case quaternions are conmutative under addition, so we are making `__radd__` equivalent to `__add__` . Also notice that we can chain the sum of quaternions in a very natural way"
     ]
    },
    {
     "cell_type": "code",
     "collapsed": false,
     "input": [
      "print 9 + 4j + iii + kkk "
     ],
     "language": "python",
     "metadata": {},
     "outputs": [
      {
       "output_type": "stream",
       "stream": "stdout",
       "text": [
        "9.000 + 5.000 i + 0.000 j + 1.000 k\n"
       ]
      }
     ],
     "prompt_number": 19
    },
    {
     "cell_type": "markdown",
     "metadata": {},
     "source": [
      "The multiplication is rather different. Lets for example test the defining property of Quaternions: $i^2=j^2=k^2=ijk=-1$"
     ]
    },
    {
     "cell_type": "code",
     "collapsed": false,
     "input": [
      "print iii*iii\n",
      "print jjj*jjj\n",
      "print kkk*kkk\n",
      "print iii*jjj*kkk"
     ],
     "language": "python",
     "metadata": {},
     "outputs": [
      {
       "output_type": "stream",
       "stream": "stdout",
       "text": [
        "-1.000 + 0.000 i + 0.000 j + 0.000 k\n",
        "-1.000 + 0.000 i + 0.000 j + 0.000 k\n",
        "-1.000 + 0.000 i + 0.000 j + 0.000 k\n",
        "-1.000 + 0.000 i + 0.000 j + 0.000 k\n"
       ]
      }
     ],
     "prompt_number": 20
    },
    {
     "cell_type": "markdown",
     "metadata": {},
     "source": [
      "This was possible by using the special method `__mul__`. As the right-side object is a quaternion, it will call the `__mul__` with the left-hand side are the other argument. \n",
      "That is also the case for a quaternion multiplied by any other number:"
     ]
    },
    {
     "cell_type": "code",
     "collapsed": false,
     "input": [
      "a=8 + iii*7 + jjj*6 + kkk*5\n",
      "print a"
     ],
     "language": "python",
     "metadata": {},
     "outputs": [
      {
       "output_type": "stream",
       "stream": "stdout",
       "text": [
        "8.000 + 7.000 i + 6.000 j + 5.000 k\n"
       ]
      }
     ],
     "prompt_number": 21
    },
    {
     "cell_type": "markdown",
     "metadata": {},
     "source": [
      "Being able to multiply a number for a quaternion requires the reverse operation and this is not the same as the direct one because quaternions do not conmute under multiplication, see for example:"
     ]
    },
    {
     "cell_type": "code",
     "collapsed": false,
     "input": [
      "print 2*a"
     ],
     "language": "python",
     "metadata": {},
     "outputs": [
      {
       "output_type": "stream",
       "stream": "stdout",
       "text": [
        "16.000 + 14.000 i + 12.000 j + 10.000 k\n"
       ]
      }
     ],
     "prompt_number": 22
    },
    {
     "cell_type": "code",
     "collapsed": false,
     "input": [
      "print 1j*a"
     ],
     "language": "python",
     "metadata": {},
     "outputs": [
      {
       "output_type": "stream",
       "stream": "stdout",
       "text": [
        "-7.000 + 8.000 i - 5.000 j + 6.000 k\n"
       ]
      }
     ],
     "prompt_number": 23
    },
    {
     "cell_type": "code",
     "collapsed": false,
     "input": [
      "print a*1j"
     ],
     "language": "python",
     "metadata": {},
     "outputs": [
      {
       "output_type": "stream",
       "stream": "stdout",
       "text": [
        "-7.000 + 8.000 i + 5.000 j - 6.000 k\n"
       ]
      }
     ],
     "prompt_number": 24
    },
    {
     "cell_type": "markdown",
     "metadata": {},
     "source": [
      "There are four more methods to complete a simple but efective Quaternion class implementation. They are the conjugate, the norm, the inverse and the unitary quaternion (also called versor). They were written at the end of our code. Lets test those simple methods. Lets take b from a previous calculation:"
     ]
    },
    {
     "cell_type": "code",
     "collapsed": false,
     "input": [
      "b=2*a\n",
      "print b"
     ],
     "language": "python",
     "metadata": {},
     "outputs": [
      {
       "output_type": "stream",
       "stream": "stdout",
       "text": [
        "16.000 + 14.000 i + 12.000 j + 10.000 k\n"
       ]
      }
     ],
     "prompt_number": 25
    },
    {
     "cell_type": "markdown",
     "metadata": {},
     "source": [
      "The norm of the quaternion is:"
     ]
    },
    {
     "cell_type": "code",
     "collapsed": false,
     "input": [
      "b.norm()"
     ],
     "language": "python",
     "metadata": {},
     "outputs": [
      {
       "output_type": "pyout",
       "prompt_number": 26,
       "text": [
        "26.38181191654584"
       ]
      }
     ],
     "prompt_number": 26
    },
    {
     "cell_type": "markdown",
     "metadata": {},
     "source": [
      "The unitary quaternion:"
     ]
    },
    {
     "cell_type": "code",
     "collapsed": false,
     "input": [
      "b.unitary()"
     ],
     "language": "python",
     "metadata": {},
     "outputs": [
      {
       "output_type": "pyout",
       "prompt_number": 27,
       "text": [
        "Quaternion((0.6064784348631227, 0.5306686305052324, 0.454858826147342, 0.37904902178945166))"
       ]
      }
     ],
     "prompt_number": 27
    },
    {
     "cell_type": "code",
     "collapsed": false,
     "input": [
      "b.unitary()*b.norm()"
     ],
     "language": "python",
     "metadata": {},
     "outputs": [
      {
       "output_type": "pyout",
       "prompt_number": 28,
       "text": [
        "Quaternion((16.0, 14.0, 12.0, 10.0))"
       ]
      }
     ],
     "prompt_number": 28
    },
    {
     "cell_type": "markdown",
     "metadata": {},
     "source": [
      "Now we show that we can decompose a quaternion in its versor scaled by its norm"
     ]
    },
    {
     "cell_type": "code",
     "collapsed": false,
     "input": [
      "b == b.norm()*b.unitary()"
     ],
     "language": "python",
     "metadata": {},
     "outputs": [
      {
       "output_type": "pyout",
       "prompt_number": 29,
       "text": [
        "True"
       ]
      }
     ],
     "prompt_number": 29
    },
    {
     "cell_type": "markdown",
     "metadata": {},
     "source": [
      "As quaternions are not conmutative, the division express as $\\frac{a}{b}$. Using that expression we cannot make the difference between $a b^{-1}$ or $a^{-1} b$ and those two quaternions are in general not the same. We will see that with an example "
     ]
    },
    {
     "cell_type": "code",
     "collapsed": false,
     "input": [
      "c= 1 + 2*iii + 3*jjj + 4*kkk\n",
      "print b\n",
      "print c"
     ],
     "language": "python",
     "metadata": {},
     "outputs": [
      {
       "output_type": "stream",
       "stream": "stdout",
       "text": [
        "16.000 + 14.000 i + 12.000 j + 10.000 k\n",
        "1.000 + 2.000 i + 3.000 j + 4.000 k\n"
       ]
      }
     ],
     "prompt_number": 30
    },
    {
     "cell_type": "code",
     "collapsed": false,
     "input": [
      "print b.inverse() * c"
     ],
     "language": "python",
     "metadata": {},
     "outputs": [
      {
       "output_type": "stream",
       "stream": "stdout",
       "text": [
        "0.172 + 0.000 i + 0.103 j + 0.052 k\n"
       ]
      }
     ],
     "prompt_number": 35
    },
    {
     "cell_type": "code",
     "collapsed": false,
     "input": [
      "print b * c.inverse()"
     ],
     "language": "python",
     "metadata": {},
     "outputs": [
      {
       "output_type": "stream",
       "stream": "stdout",
       "text": [
        "4.000 - 1.200 i + 0.000 j - 2.400 k\n"
       ]
      }
     ],
     "prompt_number": 34
    },
    {
     "cell_type": "markdown",
     "metadata": {},
     "source": [
      "The inverse works as expected creating an unitary quaternion when multiplied with the original quaternion. At least under the presision of floating point numbers"
     ]
    },
    {
     "cell_type": "code",
     "collapsed": false,
     "input": [
      "(b * b.inverse()).norm()"
     ],
     "language": "python",
     "metadata": {},
     "outputs": [
      {
       "output_type": "pyout",
       "prompt_number": 38,
       "text": [
        "0.9999999999999999"
       ]
      }
     ],
     "prompt_number": 38
    },
    {
     "cell_type": "heading",
     "level": 2,
     "metadata": {},
     "source": [
      "Some references about quaternions"
     ]
    },
    {
     "cell_type": "markdown",
     "metadata": {},
     "source": [
      "Quaternions, Octonions and Sextenions had a interesting evolution even if they remain unknown for many people out of mathematicians and theoretical physicist.\n",
      "You can learn more about the quaternions in the [Wikipedia](http://en.wikipedia.org/wiki/Quaternion Quaternion). Another good source of reference is the [Wolfram's Mathworld](http://mathworld.wolfram.com/Quaternion.html) page. "
     ]
    },
    {
     "cell_type": "heading",
     "level": 2,
     "metadata": {},
     "source": [
      "Notes about implementation"
     ]
    },
    {
     "cell_type": "markdown",
     "metadata": {},
     "source": [
      "This implementation was done in purely python code, avoiding the use of numpy on purpose. There are several ways on which the implemented class could be improuved adding more special methods and generalizing others. They are also alternative representations for quaternions, for example using $2 \\times 2$ matrices with complex elements or $4 \\times 4$ matrices on Reals. each of them with their own advantages and disadvantages. "
     ]
    }
   ],
   "metadata": {}
  }
 ]
}