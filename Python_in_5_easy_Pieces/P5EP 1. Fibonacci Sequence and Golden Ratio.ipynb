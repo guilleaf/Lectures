{
 "metadata": {
  "name": "P5EP 1. Fibonacci Sequence and Golden Ratio"
 },
 "nbformat": 3,
 "nbformat_minor": 0,
 "worksheets": [
  {
   "cells": [
    {
     "cell_type": "heading",
     "level": 1,
     "metadata": {},
     "source": [
      "Python in 5 Easy Pieces"
     ]
    },
    {
     "cell_type": "markdown",
     "metadata": {},
     "source": [
      "This is one of the topical lectures created for a basic tutorial on scientific computing using Python.\n",
      "Each piece is motivated by a mathematical or scientific problem and we show \n",
      "The purpose of these mini-lectures is not completeness (if such thing could be even possible), but presenting a set of small cases motivated mostly in mathematics and showing how "
     ]
    },
    {
     "cell_type": "heading",
     "level": 2,
     "metadata": {},
     "source": [
      "Piece 1. Fibonacci Sequences and Golden Ratio"
     ]
    },
    {
     "cell_type": "markdown",
     "metadata": {},
     "source": [
      "For this introduction to Python language, we will use the Fibonacci Sequence as an excuse to introduce the basics of the laguage. We will learn how to declare variables,mt\n",
      "making loops and defining functions.\n",
      "\n",
      "The Fibonacci sequence is a series of numbers generatated iteratively like this\n",
      "\n",
      "$F_n=F_{n-1}+F_{n-2}$\n",
      "\n",
      "where we can start with seeds $F_0=0$ and $F_1=1$\n",
      "\n",
      "Starting with those seeds we can compute $F_2$, $F_3$ and so on until an arbitrary large $F_n$\n",
      "\n",
      "The Fibonacci Sequence looks like this:\n",
      "\n",
      "$$0,\\; 1,\\;1,\\;2,\\;3,\\;5,\\;8,\\;13,\\;21,\\;34,\\;55,\\;89,\\;144,\\; \\ldots\\; $$\n",
      "\n",
      "Lets play with this in our first Python program.\n",
      "Python is modern and dynamic programming language. You can execute python code interactively as we will do here, but also you can write from small scripts to large programs, including libraries and interfaces with other programming languages.\n",
      "\n",
      "A comment line is simply created by using the symbol '#'. Everything after the end of the line will be considered as a comment and will not be interpreted.\n"
     ]
    },
    {
     "cell_type": "code",
     "collapsed": false,
     "input": [
      "# This is a simple comment for the Fibonnacci Sequence"
     ],
     "language": "python",
     "metadata": {},
     "outputs": [],
     "prompt_number": 1
    },
    {
     "cell_type": "markdown",
     "metadata": {},
     "source": [
      "Declaring variables is very easy simply declare:"
     ]
    },
    {
     "cell_type": "code",
     "collapsed": false,
     "input": [
      "a=0\n",
      "b=1\n",
      "c=a+b\n",
      "d=b+c\n",
      "e=c+d"
     ],
     "language": "python",
     "metadata": {},
     "outputs": [],
     "prompt_number": 10
    },
    {
     "cell_type": "markdown",
     "metadata": {},
     "source": [
      "We can print those values using the print statement (In Python 2.x) or the print function (In Python 3.x)"
     ]
    },
    {
     "cell_type": "code",
     "collapsed": false,
     "input": [
      "print(a)\n",
      "print(b)\n",
      "print(c)\n",
      "print(d)\n",
      "print(e)"
     ],
     "language": "python",
     "metadata": {},
     "outputs": [
      {
       "output_type": "stream",
       "stream": "stdout",
       "text": [
        "0\n",
        "1\n",
        "1\n",
        "2\n",
        "3\n"
       ]
      }
     ],
     "prompt_number": 11
    },
    {
     "cell_type": "markdown",
     "metadata": {},
     "source": [
      "Now, we can create a 'list', one of the four important built-in sequences in python, the others are 'str', 'tuple', and 'unicode'.\n",
      "Lets take those 5 variables and create a list: "
     ]
    },
    {
     "cell_type": "code",
     "collapsed": false,
     "input": [
      "fib = [a, b, c, d, e]"
     ],
     "language": "python",
     "metadata": {},
     "outputs": [],
     "prompt_number": 12
    },
    {
     "cell_type": "markdown",
     "metadata": {},
     "source": [
      "Even if not enforced by the language, it is a rule of good style to separate the symbol '=' with spaces. Also, for clarity the symbol ',' separating items in the list should be separated by spaces. We can now see how our list looks like:"
     ]
    },
    {
     "cell_type": "code",
     "collapsed": false,
     "input": [
      "fib"
     ],
     "language": "python",
     "metadata": {},
     "outputs": [
      {
       "output_type": "pyout",
       "prompt_number": 13,
       "text": [
        "[0, 1, 1, 2, 3]"
       ]
      }
     ],
     "prompt_number": 13
    },
    {
     "cell_type": "markdown",
     "metadata": {},
     "source": [
      "A list is very convenient to store data that we can index by its position in the list. There are several expressions that we can use to get elements from a list:"
     ]
    },
    {
     "cell_type": "code",
     "collapsed": false,
     "input": [
      "fib[3]"
     ],
     "language": "python",
     "metadata": {},
     "outputs": [
      {
       "output_type": "pyout",
       "prompt_number": 15,
       "text": [
        "2"
       ]
      }
     ],
     "prompt_number": 15
    },
    {
     "cell_type": "markdown",
     "metadata": {},
     "source": [
      "Notice that the index on lists starts from 0 instead of 1. This is the usual way in other languages like C, but different from Fortran whose arrays start on 1.\n",
      "We can ask for the values starting from the end:"
     ]
    },
    {
     "cell_type": "code",
     "collapsed": false,
     "input": [
      "fib[-1]"
     ],
     "language": "python",
     "metadata": {},
     "outputs": [
      {
       "output_type": "pyout",
       "prompt_number": 16,
       "text": [
        "3"
       ]
      }
     ],
     "prompt_number": 16
    },
    {
     "cell_type": "markdown",
     "metadata": {},
     "source": [
      "Or asking for a subset of elements. Remember that we count starting from 0."
     ]
    },
    {
     "cell_type": "code",
     "collapsed": false,
     "input": [
      "fib[2:4]"
     ],
     "language": "python",
     "metadata": {},
     "outputs": [
      {
       "output_type": "pyout",
       "prompt_number": 17,
       "text": [
        "[1, 2]"
       ]
      }
     ],
     "prompt_number": 17
    },
    {
     "cell_type": "markdown",
     "metadata": {},
     "source": [
      "There is an easy way to know how many elements we are asking, just substract both values. In our example, fib[2:4] should return exactly $(4-2) = 2$ elements. We can not specify the beggining or end. In such cases the missing starting point will be replaced by 0 or -1, ie, the beggining and end of the list"
     ]
    },
    {
     "cell_type": "code",
     "collapsed": false,
     "input": [
      "print(fib)\n",
      "print(fib[2:])\n",
      "print(fib[:3])"
     ],
     "language": "python",
     "metadata": {},
     "outputs": [
      {
       "output_type": "stream",
       "stream": "stdout",
       "text": [
        "[0, 1, 1, 2, 3]\n",
        "[1, 2, 3]\n",
        "[0, 1, 1]\n"
       ]
      }
     ],
     "prompt_number": 20
    },
    {
     "cell_type": "markdown",
     "metadata": {},
     "source": [
      "Loops is one of the most important statements in any programming language. In Python there is a 'for' loop and we can use it to generate le Fibonacci sequence. The 'for' loop requires a 'iterator' to move a variable between a series of values. One very used iterator is 'range'"
     ]
    },
    {
     "cell_type": "code",
     "collapsed": false,
     "input": [
      "range(10)"
     ],
     "language": "python",
     "metadata": {},
     "outputs": [
      {
       "output_type": "pyout",
       "prompt_number": 5,
       "text": [
        "[0, 1, 2, 3, 4, 5, 6, 7, 8, 9]"
       ]
      }
     ],
     "prompt_number": 5
    },
    {
     "cell_type": "markdown",
     "metadata": {},
     "source": [
      "If you are using Python 2.x you will see a list. In Python 3.x, you have to convert it into a list to actually see it, using the function 'list()'. Both works basically the same way for the level of this tutorial."
     ]
    },
    {
     "cell_type": "code",
     "collapsed": false,
     "input": [
      "list(range(10))"
     ],
     "language": "python",
     "metadata": {},
     "outputs": [
      {
       "output_type": "pyout",
       "prompt_number": 7,
       "text": [
        "[0, 1, 2, 3, 4, 5, 6, 7, 8, 9]"
       ]
      }
     ],
     "prompt_number": 7
    },
    {
     "cell_type": "markdown",
     "metadata": {},
     "source": [
      "Now we can introduce a for loop to see the first 10 elements in the Fibonacci sequence"
     ]
    },
    {
     "cell_type": "code",
     "collapsed": false,
     "input": [
      "a = 0\n",
      "b = 1\n",
      "print(a)\n",
      "print(b)\n",
      "for i in range(10):\n",
      "    c = a+b\n",
      "    print(c)\n",
      "    a = b\n",
      "    b = c\n",
      "    "
     ],
     "language": "python",
     "metadata": {},
     "outputs": [
      {
       "output_type": "stream",
       "stream": "stdout",
       "text": [
        "0\n",
        "1\n",
        "1\n",
        "2\n",
        "3\n",
        "5\n",
        "8\n",
        "13\n",
        "21\n",
        "34\n",
        "55\n",
        "89\n"
       ]
      }
     ],
     "prompt_number": 22
    },
    {
     "cell_type": "markdown",
     "metadata": {},
     "source": [
      "This is a simple way to iteratively generating the Fibonacci sequence. Now, imagine that we want to store the values of the sequence. Lists are objects, something that we will see later. \n",
      "For now we just need to know that there is a function (a method in Object-Oriented Programming) that allow us to add elements to a list. The append method:"
     ]
    },
    {
     "cell_type": "code",
     "collapsed": false,
     "input": [
      "fib = [0, 1]\n",
      "for i in range(1,11):\n",
      "    fib.append(fib[i]+fib[i-1])\n",
      "print(fib)"
     ],
     "language": "python",
     "metadata": {},
     "outputs": [
      {
       "output_type": "stream",
       "stream": "stdout",
       "text": [
        "[0, 1, 1, 2, 3, 5, 8, 13, 21, 34, 55, 89]\n"
       ]
      }
     ],
     "prompt_number": 28
    },
    {
     "cell_type": "code",
     "collapsed": false,
     "input": [
      "The append method works by adding the element at the end of the list. "
     ],
     "language": "python",
     "metadata": {},
     "outputs": [
      {
       "output_type": "pyout",
       "prompt_number": 26,
       "text": [
        "[0, 1, 1, 2, 3, 5, 8, 13, 21, 34, 55, 89]"
       ]
      }
     ],
     "prompt_number": 26
    },
    {
     "cell_type": "markdown",
     "metadata": {},
     "source": [
      "There is something important about objects such as list in Python. Observe this example:"
     ]
    },
    {
     "cell_type": "code",
     "collapsed": false,
     "input": [
      "a=[1,2]\n",
      "b=a\n",
      "b[0]='house'\n",
      "print(a)\n",
      "print(b)"
     ],
     "language": "python",
     "metadata": {},
     "outputs": [
      {
       "output_type": "stream",
       "stream": "stdout",
       "text": [
        "['house', 2]\n",
        "['house', 2]\n"
       ]
      }
     ],
     "prompt_number": 31
    },
    {
     "cell_type": "code",
     "collapsed": false,
     "input": [
      "Two unexpected behaviors.\n",
      "First, list could contain elements of different data types, in this case strings and integers. In fact, you can make lists of practically anything even objects, functions, etc. \n",
      "Second, when we declare 'b=a' and changing b the values of a were also changed. That kind of behavior does not happen for literals"
     ],
     "language": "python",
     "metadata": {},
     "outputs": []
    }
   ],
   "metadata": {}
  }
 ]
}