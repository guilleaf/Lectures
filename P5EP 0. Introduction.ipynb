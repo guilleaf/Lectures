{
 "cells": [
  {
   "cell_type": "markdown",
   "metadata": {},
   "source": [
    "# Python in 5 Easy Pieces"
   ]
  },
  {
   "cell_type": "markdown",
   "metadata": {},
   "source": [
    "Guillermo Avendano-Franco (gufranco@mail.wvu.edu)"
   ]
  },
  {
   "cell_type": "markdown",
   "metadata": {},
   "source": [
    "This is a set of lectures about Python for Scientific Computing. These lectures are presented for those who attended the Virtual School of Computational Science and Engineering [VSCSE](http://www.vscse.org/) at [West Virginia University](http://www.wvu.edu).\n",
    "From June 16 to 20 of 2014 and From June 30 to July 2 of 2014\n",
    "\n",
    "The other lectures are accesible using the IPython Notebook Viewer and ther are located on my GitHub account\n",
    "\n",
    "[Python in 5 Easy Pieces](http://nbviewer.ipython.org/github/guilleaf/Lectures/tree/master/Python_in_5_Easy_Pieces)"
   ]
  },
  {
   "cell_type": "code",
   "execution_count": 1,
   "metadata": {},
   "outputs": [
    {
     "name": "stdout",
     "output_type": "stream",
     "text": [
      "Populating the interactive namespace from numpy and matplotlib\n"
     ]
    }
   ],
   "source": [
    "%pylab inline"
   ]
  },
  {
   "cell_type": "markdown",
   "metadata": {},
   "source": [
    "# Installing a Python environment for Scientific Python Computing"
   ]
  },
  {
   "cell_type": "markdown",
   "metadata": {},
   "source": [
    "Before actually starting with the tutorials I will suggest several ways to follow them on your own laptop computer. These are your alternatives acording with the Operating System that you are currently using on your machine"
   ]
  },
  {
   "cell_type": "markdown",
   "metadata": {},
   "source": [
    "### Windows User"
   ]
  },
  {
   "cell_type": "markdown",
   "metadata": {},
   "source": [
    "If you are a windows user, you have several alternatives today:\n",
    "\n",
    "<br>\n",
    "\n",
    "#### Installing Canopy\n",
    "\n",
    "   Installing a fairly complete python environment such as [Enthought Canopy](https://www.enthought.com/products/canopy/compare-subscriptions/).\n",
    "   Windows users will have to download around 250 MB and install the software on their own machine.\n",
    "   Enthought Canopy includes all the packages needed to follow this session an most of the next session.\n",
    "\n",
    "<br>\n",
    "\n",
    "#### Using Linux\n",
    "\n",
    "   Use a Linux Live-DVD, put the DVD on your machine and reboot the machine using the DVD. Nothing of your system will be changed, if you are lucky and Linux can detect\n",
    "   your network device, you can connect to internet and follow the tutorials using the IPython notebook present on the live DVD.\n",
    "   Once you finish working with the Live-DVD, remember to save anything to an external USB, otherwise eveything you did during the session will be lost."
   ]
  },
  {
   "cell_type": "markdown",
   "metadata": {},
   "source": [
    "### Mac OsX User"
   ]
  },
  {
   "cell_type": "markdown",
   "metadata": {},
   "source": [
    "Mac users have also several options to actively follow the tutorials:\n",
    "\n",
    "<br>\n",
    "\n",
    "#### Installing Canopy\n",
    "[Enthought Canopy](https://www.enthought.com/products/canopy/compare-subscriptions/) is also available for Mac users. It is a _dmg_ disk image, it should be very easy to install.\n",
    "\n",
    "#### Installing using MacPorts\n",
    "If you are confident you a Unix-like environment, this is probably also a good option for you. You should already have installed MacPorts on you Mac otherwise you will no have time to do it during the session.\n",
    "You need to install Python (Version 2.7.x is just fine) and a few other packages such as:\n",
    "\n",
    "* numpy\n",
    "* scipy\n",
    "* matplotlib\n",
    "* ipython (Be sure to add the variants _notebook_ and _parallel_)\n",
    "* pandas\n",
    "* mayavi (If you are brave enough! )"
   ]
  },
  {
   "cell_type": "markdown",
   "metadata": {},
   "source": [
    "### Linux Users"
   ]
  },
  {
   "cell_type": "markdown",
   "metadata": {},
   "source": [
    "For Linux users, I do not need to say much... Just go and install python, ipython, numpy, scipy, pandas and mayavi.\n",
    "Just do it now, you will have everything in place in just a few minutes."
   ]
  },
  {
   "cell_type": "markdown",
   "metadata": {},
   "source": [
    "### I do not want to install anything on my laptop (and I do not want to use a Live-DVD)"
   ]
  },
  {
   "cell_type": "markdown",
   "metadata": {},
   "source": [
    "Ok, you can follow passively this tutorials using the [IPython Notebook Viewer](http://nbviewer.ipython.org), a simple way to visualize IPython Notebooks using your web browser your internet connection."
   ]
  },
  {
   "cell_type": "markdown",
   "metadata": {},
   "source": [
    "## A little bit of motivational Python propaganda."
   ]
  },
  {
   "cell_type": "markdown",
   "metadata": {},
   "source": [
    "Just to give some time to install Python on you laptop or lauching the Live-DVD, you can multi-thread your brain to listen some basics of Python and demystified some beliefs about scripting languages."
   ]
  },
  {
   "cell_type": "markdown",
   "metadata": {},
   "source": [
    "### What is Python?"
   ]
  },
  {
   "cell_type": "markdown",
   "metadata": {},
   "source": [
    "> [Python](http://www.python.org/) Python is a multiparadigm, general-purpose, interpreted, high-level programming language. \n",
    "> Python allows programmers to use different programming styles to create simple or complex programs, get quicker results and write code almost as if speaking in a human language. \n",
    "> Some of the popular systems and applications that have employed Python during development include Google Search, YouTube, BitTorrent, Google App Engine, Eve Online, Maya and iRobot machines.\n",
    ">> [_from Technopedia_](http://www.techopedia.com/definition/3533/python)\n",
    "\n",
    "\n",
    "Key characteristics of Python:\n",
    "\n",
    "* **clean and simple language:** (KISS principle) Easy-to-read and intuitive code, minimalistic syntax, scales well with projects.\n",
    "* **expressive language:** Fewer lines of code, fewer bugs, easier to maintain.\n",
    "* **multiparadigm:** Including object-oriented, imperative and functional programming or procedural styles. \n",
    "* **standard library:** Large and comprehensive set of functions that runs consistently where Python runs.\n",
    "\n",
    "Technical details:\n",
    "\n",
    "* **dynamically typed:** No need to define the type of variables, function arguments or return types.\n",
    "* **automatic memory management:** No need to explicitly allocate and deallocate memory for variables and data arrays (Like _malloc_ in C). \n",
    "* **interpreted:** No need to compile the code. The Python interpreter reads and executes the python code directly. \n",
    "\n",
    "Advantages:\n",
    "\n",
    "* The main advantage is ease of programming, minimizing the time required to develop, debug and maintain the code.\n",
    "* Well designed language that encourage many good programming practices:\n",
    "* Modular and object-oriented programming, good system for packaging and re-use of code. This often results in more transparent, maintainable and bug-free code.\n",
    "* Documentation tightly integrated with the code (Documentation is usually ).\n",
    "* A large standard library, and a large collection of add-on packages.\n",
    "\n",
    "Disadvantages:\n",
    "\n",
    "* Since Python is an interpreted and dynamically typed programming language, the execution of python code can be slow compared to compiled statically typed programming languages, such as C and Fortran. \n",
    "* Lacks an standard GUI, there are several.\n",
    "* There are two versions currently in use the latest to date (June 2014) are 2.7.7 and 3.4.1. This could be confusing to new users trying to decide wich version they should learn"
   ]
  },
  {
   "cell_type": "markdown",
   "metadata": {},
   "source": [
    "### Scripting languages are inefficient, I could do better programming in Fortran, C, or assembler!"
   ]
  },
  {
   "cell_type": "markdown",
   "metadata": {},
   "source": [
    "Ok, what exactly you want to optimize? The time that your code is running on the machine or the time you need to write the code that you need to get your results?\n",
    "If you devote too much time hard programming in a language like C or Fortran, probably someone else will do it faster, the code could run slower but she/he will get\n",
    "the results sooner, like publish first and will receive a new grant to hire more people for her/his group.\n",
    "\n",
    "Now, what its efficiency?\n",
    "\n"
   ]
  },
  {
   "cell_type": "markdown",
   "metadata": {},
   "source": [
    "<img src=\"https://raw.github.com/jrjohansson/scientific-python-lectures/master/images/optimizing-what.png\" width=\"600\">\n",
    "\n",
    "([from Johansson's Scientific Python Lectures](http://jrjohansson.github.io/) )\n",
    "\n",
    "That is the reason why Python has a strong position in scientific computing.\n",
    "It is an open language (no license costs, you can use your research budget for buying more machines)\n",
    "\n",
    "One important reason why Python is so popular is the set of scientific libraries and environments,\n",
    "among them:\n",
    "\n",
    "* **numpy:**\n",
    "\n",
    "[ http://numpy.scipy.org](http://numpy.scipy.org) - Numerical Python, operations with arrays mostly\n",
    "\n",
    "* **scipy:**\n",
    "\n",
    "[http://www.scipy.org](http://www.scipy.org) -  Scientific Python, advanced linear algebra, FFTs\n",
    "This library uses blas, altas blas, lapack, arpack, Intel MKL internally for performance\n",
    "\n",
    "* **matplotlib:**\n",
    "\n",
    "[http://www.matplotlib.org](http://www.matplotlib.org) - Plotting library (Mostly 2D)\n",
    "\n",
    "* **pandas:** \n",
    "\n",
    "[http://pandas.pydata.org](http://pandas.pydata.org/) - data analysis\n",
    "\n",
    "* **sympy:**\n",
    "\n",
    "[http://sympy.org](http://sympy.org/en/index.html) Symbolic math. Computer algebra system (CAS)\n",
    "\n",
    "* **IPython:**\n",
    "\n",
    "[http://ipython.org/](http://ipython.org) Interactive computing\n"
   ]
  },
  {
   "cell_type": "markdown",
   "metadata": {},
   "source": [
    "### Python is also good support HPC"
   ]
  },
  {
   "cell_type": "markdown",
   "metadata": {},
   "source": [
    "Python is able to use:\n",
    "\n",
    "    * Parallel processing with processes and threads\n",
    "    * Interprocess communication (MPI)\n",
    "    * GPU computing (OpenCL and CUDA)"
   ]
  },
  {
   "cell_type": "markdown",
   "metadata": {},
   "source": [
    "### Programmer or Scripter"
   ]
  },
  {
   "cell_type": "markdown",
   "metadata": {},
   "source": [
    "You do not need to be a Python Programmer to actually used and take advantage of Python for your own research.\n",
    "Have you ever found doing the same operation in a computer over and over again, simply because you do not know how to do it differently.\n",
    "\n",
    "Scripts are not bad programs, they are simply quick and dirt, pieces of code that help you save your brain to better purposes.\n",
    "They are dirty because, typically they are not commented, they are not actively maintain, no unitary tests, no continuous integration,\n",
    "no test-farms, nothing of such things that world-class software usually has.\n",
    "\n",
    "For programs, there are those who write programs, integrated pieces of code that are intended to be used independently. There are also those\n",
    "who write libraries, set of functions, classes, routines, methods, as you prefer to call them. Those are the building blocks of larger structures, \n",
    "such as programs or other libraries.\n",
    "\n",
    "As a scientist that uses computing to pursue your research, you could be doing scripts, doing programs or doing libraries. There is nothing\n",
    "pejorative in doing scripts, and there is nothing derogatory in using scripting languages. The important is the science, get the job done and\n",
    "move forward.\n"
   ]
  },
  {
   "cell_type": "markdown",
   "metadata": {},
   "source": [
    "### You should be ready now!"
   ]
  },
  {
   "cell_type": "markdown",
   "metadata": {},
   "source": [
    "I assume that you have now running Ipython Notebook or you will continue to see this presentation using your browser, in any case I hope you will enjoy this time experiment a different way of doing scientific computing."
   ]
  },
  {
   "cell_type": "markdown",
   "metadata": {},
   "source": [
    "## Testing your Python Environment"
   ]
  },
  {
   "cell_type": "markdown",
   "metadata": {},
   "source": [
    "We will now exploring a little bit about how things work in python. The purpose of this section is two-fold, give you a quick overview of the kind of things that you can do with Python allow to test if everthing works for you, in particular the external libraries that could still not be present in your system."
   ]
  },
  {
   "cell_type": "markdown",
   "metadata": {},
   "source": [
    "The most basic thing you can do is use the Python interpreter as a calculator, test for example:"
   ]
  },
  {
   "cell_type": "markdown",
   "metadata": {},
   "source": [
    "#### Python"
   ]
  },
  {
   "cell_type": "code",
   "execution_count": 2,
   "metadata": {},
   "outputs": [
    {
     "data": {
      "text/plain": [
       "365"
      ]
     },
     "execution_count": 2,
     "metadata": {},
     "output_type": "execute_result"
    }
   ],
   "source": [
    "31*7 + 30*4 + 28"
   ]
  },
  {
   "cell_type": "markdown",
   "metadata": {},
   "source": [
    "Old calculators use to fail with this:"
   ]
  },
  {
   "cell_type": "code",
   "execution_count": 3,
   "metadata": {},
   "outputs": [
    {
     "data": {
      "text/plain": [
       "11978571669969891796072783721689098736458938142546425857555362864628009582789845319680000000000000000"
      ]
     },
     "execution_count": 3,
     "metadata": {},
     "output_type": "execute_result"
    }
   ],
   "source": [
    "import math\n",
    "math.factorial(70)"
   ]
  },
  {
   "cell_type": "code",
   "execution_count": 4,
   "metadata": {},
   "outputs": [
    {
     "data": {
      "text/plain": [
       "1.1978571669969892e+100"
      ]
     },
     "execution_count": 4,
     "metadata": {},
     "output_type": "execute_result"
    }
   ],
   "source": [
    "float(math.factorial(70))"
   ]
  },
  {
   "cell_type": "markdown",
   "metadata": {},
   "source": [
    "This is called list comprehension, we will see about them later on. I search for a very obfuscating case indeed!"
   ]
  },
  {
   "cell_type": "code",
   "execution_count": 5,
   "metadata": {},
   "outputs": [
    {
     "name": "stdout",
     "output_type": "stream",
     "text": [
      "[2, 3, 5, 7, 11, 13, 17, 19, 23, 29, 31, 37, 41, 43, 47, 53, 59, 61, 67, 71, 73, 79, 83, 89, 97]\n"
     ]
    }
   ],
   "source": [
    "n = 100 \n",
    "primes = [prime for prime in range(2, n) if prime not in [noprimes for i in range(2, int(n**0.5)) for noprimes in range(i * 2, n, i)]]\n",
    "print(primes)"
   ]
  },
  {
   "cell_type": "markdown",
   "metadata": {},
   "source": [
    "You can know wich version of Python you are using"
   ]
  },
  {
   "cell_type": "code",
   "execution_count": 6,
   "metadata": {},
   "outputs": [
    {
     "data": {
      "text/plain": [
       "'3.5.2 (default, Nov 12 2018, 13:43:14) \\n[GCC 5.4.0 20160609]'"
      ]
     },
     "execution_count": 6,
     "metadata": {},
     "output_type": "execute_result"
    }
   ],
   "source": [
    "import sys\n",
    "sys.version"
   ]
  },
  {
   "cell_type": "markdown",
   "metadata": {},
   "source": [
    "#### Numpy"
   ]
  },
  {
   "cell_type": "markdown",
   "metadata": {},
   "source": [
    "Now we will test if numpy is working on your system"
   ]
  },
  {
   "cell_type": "code",
   "execution_count": 7,
   "metadata": {},
   "outputs": [],
   "source": [
    "import numpy as np"
   ]
  },
  {
   "cell_type": "markdown",
   "metadata": {},
   "source": [
    "If you get an error in the previous input, numpy is not installed on your system. The next inputs will fail also"
   ]
  },
  {
   "cell_type": "markdown",
   "metadata": {},
   "source": [
    "Those are the Pauli matrices:"
   ]
  },
  {
   "cell_type": "code",
   "execution_count": 8,
   "metadata": {},
   "outputs": [
    {
     "data": {
      "text/plain": [
       "array([[0.+0.j, 1.+0.j],\n",
       "       [1.+0.j, 0.+0.j]])"
      ]
     },
     "execution_count": 8,
     "metadata": {},
     "output_type": "execute_result"
    }
   ],
   "source": [
    "sigmax=np.array([ [0, 1], [1, 0] ], dtype=complex)\n",
    "sigmax"
   ]
  },
  {
   "cell_type": "code",
   "execution_count": 9,
   "metadata": {},
   "outputs": [
    {
     "data": {
      "text/plain": [
       "array([[ 0.+0.j, -0.-1.j],\n",
       "       [ 0.+1.j,  0.+0.j]])"
      ]
     },
     "execution_count": 9,
     "metadata": {},
     "output_type": "execute_result"
    }
   ],
   "source": [
    "sigmay=np.array([ [0, -1j], [1j, 0] ], dtype=complex)\n",
    "sigmay"
   ]
  },
  {
   "cell_type": "code",
   "execution_count": 10,
   "metadata": {},
   "outputs": [
    {
     "data": {
      "text/plain": [
       "array([[ 1.+0.j,  0.+0.j],\n",
       "       [ 0.+0.j, -1.+0.j]])"
      ]
     },
     "execution_count": 10,
     "metadata": {},
     "output_type": "execute_result"
    }
   ],
   "source": [
    "sigmaz=np.array([ [1, 0], [0, -1] ], dtype=complex)\n",
    "sigmaz"
   ]
  },
  {
   "cell_type": "markdown",
   "metadata": {},
   "source": [
    "This shows the involutary property of Pauli matrices"
   ]
  },
  {
   "cell_type": "code",
   "execution_count": 11,
   "metadata": {},
   "outputs": [
    {
     "data": {
      "text/plain": [
       "array([[1.-0.j, 0.-0.j],\n",
       "       [0.-0.j, 1.-0.j]])"
      ]
     },
     "execution_count": 11,
     "metadata": {},
     "output_type": "execute_result"
    }
   ],
   "source": [
    "-1j* np.dot( sigmax, np.dot(sigmay, sigmaz))"
   ]
  },
  {
   "cell_type": "markdown",
   "metadata": {},
   "source": [
    "This shows how to produce the Identity matrix with complex entries"
   ]
  },
  {
   "cell_type": "code",
   "execution_count": 12,
   "metadata": {},
   "outputs": [
    {
     "data": {
      "text/plain": [
       "array([[1.+0.j, 0.+0.j],\n",
       "       [0.+0.j, 1.+0.j]])"
      ]
     },
     "execution_count": 12,
     "metadata": {},
     "output_type": "execute_result"
    }
   ],
   "source": [
    "np.eye(2, dtype=complex)"
   ]
  },
  {
   "cell_type": "markdown",
   "metadata": {},
   "source": [
    "These are the rotation matrices in $\\mathbb{R}^3$"
   ]
  },
  {
   "cell_type": "code",
   "execution_count": 13,
   "metadata": {},
   "outputs": [],
   "source": [
    "from math import cos, sin, radians\n",
    "def Rotation(alpha, beta, gamma):\n",
    "    a=radians(alpha)\n",
    "    b=radians(beta)\n",
    "    c=radians(gamma)\n",
    "    Rx=np.array([[1, 0, 0],[0, cos(a), -sin(a)],[0, sin(a), cos(a)]])\n",
    "    Ry=np.array([[cos(b),0,sin(beta)],[0, 1, 0],[-sin(b), 0, cos(b)]])\n",
    "    Rz=np.array([[cos(c), -sin(c), 0],[sin(c), cos(c), 0],[0, 0, 1]])\n",
    "    return Rx, Ry, Rz"
   ]
  },
  {
   "cell_type": "code",
   "execution_count": 14,
   "metadata": {},
   "outputs": [
    {
     "data": {
      "text/plain": [
       "(array([[ 1.,  0.,  0.],\n",
       "        [ 0.,  1., -0.],\n",
       "        [ 0.,  0.,  1.]]), array([[ 1.,  0.,  0.],\n",
       "        [ 0.,  1.,  0.],\n",
       "        [-0.,  0.,  1.]]), array([[ 0., -1.,  0.],\n",
       "        [ 1.,  0.,  0.],\n",
       "        [ 0.,  0.,  1.]]))"
      ]
     },
     "execution_count": 14,
     "metadata": {},
     "output_type": "execute_result"
    }
   ],
   "source": [
    "np.set_printoptions(precision=3,suppress=True)\n",
    "Rotation(0,0,90)"
   ]
  },
  {
   "cell_type": "markdown",
   "metadata": {},
   "source": [
    "This shows that rotations form a group, the so call Special Orthogonal Group $SO(3)$"
   ]
  },
  {
   "cell_type": "code",
   "execution_count": 15,
   "metadata": {},
   "outputs": [
    {
     "name": "stdout",
     "output_type": "stream",
     "text": [
      "[[ 1.     0.     0.   ]\n",
      " [ 0.     0.707 -0.707]\n",
      " [ 0.     0.707  0.707]]\n",
      "[[ 0.707  0.     0.851]\n",
      " [ 0.     1.     0.   ]\n",
      " [-0.707  0.     0.707]]\n",
      "[[ 1. -0.  0.]\n",
      " [ 0.  1.  0.]\n",
      " [ 0.  0.  1.]]\n"
     ]
    }
   ],
   "source": [
    "Rx,Ry,Rz=Rotation(45,45,0)\n",
    "print(Rx)\n",
    "print(Ry)\n",
    "print(Rz)"
   ]
  },
  {
   "cell_type": "markdown",
   "metadata": {},
   "source": [
    "Notice that rotate 45 degrees about the y axis followed by a rotation of 45 degrees about the x axis does not produce the same matrix, or same rotation, that operating in the inverse order.\n",
    "Matrix multiplication and rotations do not conmute. The _np.dot()_ is used to multiply matrices."
   ]
  },
  {
   "cell_type": "code",
   "execution_count": 16,
   "metadata": {},
   "outputs": [
    {
     "data": {
      "text/plain": [
       "array([[ 0.707,  0.   ,  0.851],\n",
       "       [ 0.5  ,  0.707, -0.5  ],\n",
       "       [-0.5  ,  0.707,  0.5  ]])"
      ]
     },
     "execution_count": 16,
     "metadata": {},
     "output_type": "execute_result"
    }
   ],
   "source": [
    "np.dot(Rx,Ry)"
   ]
  },
  {
   "cell_type": "code",
   "execution_count": 17,
   "metadata": {},
   "outputs": [
    {
     "data": {
      "text/plain": [
       "array([[ 0.707,  0.602,  0.602],\n",
       "       [ 0.   ,  0.707, -0.707],\n",
       "       [-0.707,  0.5  ,  0.5  ]])"
      ]
     },
     "execution_count": 17,
     "metadata": {},
     "output_type": "execute_result"
    }
   ],
   "source": [
    "np.dot(Ry,Rx)"
   ]
  },
  {
   "cell_type": "markdown",
   "metadata": {},
   "source": [
    "#### Scipy"
   ]
  },
  {
   "cell_type": "markdown",
   "metadata": {},
   "source": [
    "We start importing the Bessel function of the first kind of real order v: $J_v(\\rho)$. We also need to import the RBF class for radial basis function interpolation of n-dimensional scattered data."
   ]
  },
  {
   "cell_type": "code",
   "execution_count": 18,
   "metadata": {},
   "outputs": [],
   "source": [
    "from scipy.interpolate import Rbf\n",
    "from scipy.special import jn\n",
    "from math import pi"
   ]
  },
  {
   "cell_type": "markdown",
   "metadata": {},
   "source": [
    "Here we create our random sampling of data. The \"Sombrero\" function is defined as $2 J_1(\\pi \\rho)/(\\pi \\rho)$. This function is very used in optics and image processing. Lets try to see if the RBF algorithm is able to capture the small waves of the \"Sobrero\"."
   ]
  },
  {
   "cell_type": "code",
   "execution_count": 19,
   "metadata": {},
   "outputs": [],
   "source": [
    "x = np.random.rand(100)*8.0-4.0\n",
    "y = np.random.rand(100)*8.0-4.0\n",
    "rho = np.sqrt(x**2 + y**2)\n",
    "z = 2 * jn(1,pi*rho)/(pi*rho)\n",
    "tx = np.linspace(-4.0, 4.0, 100)\n",
    "ty = np.linspace(-4.0, 4.0, 100)\n",
    "XI, YI = np.meshgrid(tx, ty)"
   ]
  },
  {
   "cell_type": "markdown",
   "metadata": {},
   "source": [
    "Now, we have the sampled data and a mesh grid to work with. The class Rbf returns a callable that we use to fill the interpolated values in the ZI array"
   ]
  },
  {
   "cell_type": "code",
   "execution_count": 20,
   "metadata": {},
   "outputs": [],
   "source": [
    "rbf = Rbf(x, y, z, epsilon=2)\n",
    "ZI = rbf(XI, YI)"
   ]
  },
  {
   "cell_type": "markdown",
   "metadata": {},
   "source": [
    "We can used this interpolated data for visualization. Matplotlib is the standard \"de facto\" for plotting"
   ]
  },
  {
   "cell_type": "markdown",
   "metadata": {},
   "source": [
    "#### Matplotlib"
   ]
  },
  {
   "cell_type": "code",
   "execution_count": 21,
   "metadata": {},
   "outputs": [
    {
     "name": "stdout",
     "output_type": "stream",
     "text": [
      "Populating the interactive namespace from numpy and matplotlib\n"
     ]
    },
    {
     "name": "stderr",
     "output_type": "stream",
     "text": [
      "/home/guilleaf/.local/lib/python3.5/site-packages/IPython/core/magics/pylab.py:160: UserWarning: pylab import has clobbered these variables: ['radians', 'sin', 'pi', 'cos']\n",
      "`%matplotlib` prevents importing * from pylab and numpy\n",
      "  \"\\n`%matplotlib` prevents importing * from pylab and numpy\"\n"
     ]
    }
   ],
   "source": [
    "%pylab inline\n",
    "import matplotlib.pyplot as plt\n",
    "from matplotlib import cm"
   ]
  },
  {
   "cell_type": "markdown",
   "metadata": {},
   "source": [
    "Now plot the interpolated mesh"
   ]
  },
  {
   "cell_type": "code",
   "execution_count": 22,
   "metadata": {},
   "outputs": [
    {
     "data": {
      "image/png": "[encoded data removed]",
      "text/plain": [
       "<Figure size 648x576 with 2 Axes>"
      ]
     },
     "metadata": {
      "needs_background": "light"
     },
     "output_type": "display_data"
    }
   ],
   "source": [
    "fig=plt.figure(figsize=(9, 8))\n",
    "#n = plt.normalize(-1., 1.)\n",
    "plt.subplot(1, 1, 1)\n",
    "plt.pcolor(XI, YI, ZI, cmap=cm.jet)\n",
    "plt.scatter(x, y, 20, z, cmap=cm.jet)\n",
    "plt.title('RBF interpolation - multiquadrics')\n",
    "plt.xlim(-4, 4)\n",
    "plt.ylim(-4, 4)\n",
    "plt.colorbar();"
   ]
  },
  {
   "cell_type": "markdown",
   "metadata": {},
   "source": [
    "Notice that the Rbf algorithm was able to capture, even if not completely the first and second ring in the \"Sombrero\" function.\n",
    "We can try now to plot the surface of the function using also Matplotlib"
   ]
  },
  {
   "cell_type": "code",
   "execution_count": 23,
   "metadata": {},
   "outputs": [
    {
     "data": {
      "image/png": "[encoded data removed]",
      "text/plain": [
       "<Figure size 1152x576 with 2 Axes>"
      ]
     },
     "metadata": {
      "needs_background": "light"
     },
     "output_type": "display_data"
    }
   ],
   "source": [
    "from mpl_toolkits.mplot3d import Axes3D\n",
    "fig = plt.figure(figsize=(16,8))\n",
    "ax = fig.gca(projection='3d')\n",
    "surf = ax.plot_surface(XI, YI, ZI, rstride=1, cstride=1, cmap=cm.coolwarm,\n",
    "        linewidth=0, antialiased=False)\n",
    "\n",
    "ax.set_zlim(-1.01, 1.01)\n",
    "ax.zaxis.set_major_locator(LinearLocator(10))\n",
    "ax.zaxis.set_major_formatter(FormatStrFormatter('%.02f'))\n",
    "\n",
    "fig.colorbar(surf, shrink=0.5, aspect=5)\n",
    "\n",
    "plt.show()"
   ]
  },
  {
   "cell_type": "markdown",
   "metadata": {},
   "source": [
    "#### SymPy"
   ]
  },
  {
   "cell_type": "markdown",
   "metadata": {},
   "source": [
    "This is a library for symbolic math, different of most of the libraries presented untit now that are basically numeric. Lets do some simple examples to see how SymPy works.\n",
    "This is one of the libraries that you have not installed. If you are not really intrested in computer algebra, just move on to the next library. "
   ]
  },
  {
   "cell_type": "code",
   "execution_count": 24,
   "metadata": {},
   "outputs": [
    {
     "name": "stderr",
     "output_type": "stream",
     "text": [
      "/home/guilleaf/.local/lib/python3.5/site-packages/IPython/extensions/sympyprinting.py:31: UserWarning: The sympyprinting extension has moved to `sympy`, use `from sympy import init_printing; init_printing()`\n",
      "  warnings.warn(\"The sympyprinting extension has moved to `sympy`, \"\n"
     ]
    }
   ],
   "source": [
    "%load_ext sympyprinting\n",
    "import sympy as sym"
   ]
  },
  {
   "cell_type": "code",
   "execution_count": 25,
   "metadata": {},
   "outputs": [],
   "source": [
    "# Deprecated\n",
    "#sym.interactive.ipythonprinting"
   ]
  },
  {
   "cell_type": "markdown",
   "metadata": {},
   "source": [
    "We will inform Sympy that treat 'x', 'y', 'z' and 't' as symbols. "
   ]
  },
  {
   "cell_type": "code",
   "execution_count": 26,
   "metadata": {},
   "outputs": [],
   "source": [
    "x, y, z, t = sym.symbols('x y z t')"
   ]
  },
  {
   "cell_type": "markdown",
   "metadata": {},
   "source": [
    "Equality is given by the function Eq, not by '=' (or ':=')"
   ]
  },
  {
   "cell_type": "code",
   "execution_count": 27,
   "metadata": {},
   "outputs": [
    {
     "data": {
      "text/latex": [
       "$\\displaystyle x = y$"
      ],
      "text/plain": [
       "Eq(x, y)"
      ]
     },
     "execution_count": 27,
     "metadata": {},
     "output_type": "execute_result"
    }
   ],
   "source": [
    "sym.Eq(x,y)"
   ]
  },
  {
   "cell_type": "markdown",
   "metadata": {},
   "source": [
    "The imaginary unit is I, not 1j like use to be in Python "
   ]
  },
  {
   "cell_type": "code",
   "execution_count": 28,
   "metadata": {},
   "outputs": [
    {
     "data": {
      "text/latex": [
       "$\\displaystyle 4.71238898038469 + \\frac{e^{i x}}{x^{2} + y}$"
      ],
      "text/plain": [
       "4.71238898038469 + exp(I*x)/(x**2 + y)"
      ]
     },
     "execution_count": 28,
     "metadata": {},
     "output_type": "execute_result"
    }
   ],
   "source": [
    "sym.Rational(3,2)*pi + sym.exp(sym.I*x) / (x**2 + y)"
   ]
  },
  {
   "cell_type": "code",
   "execution_count": 29,
   "metadata": {},
   "outputs": [
    {
     "data": {
      "text/latex": [
       "$\\displaystyle \\left(x + 1\\right) \\left(x + y\\right)^{3}$"
      ],
      "text/plain": [
       "(x + 1)*(x + y)**3"
      ]
     },
     "execution_count": 29,
     "metadata": {},
     "output_type": "execute_result"
    }
   ],
   "source": [
    "eq = ((x+y)**3 * (x+1))\n",
    "eq"
   ]
  },
  {
   "cell_type": "code",
   "execution_count": 30,
   "metadata": {},
   "outputs": [
    {
     "data": {
      "text/latex": [
       "$\\displaystyle x^{4} + 3 x^{3} y + x^{3} + 3 x^{2} y^{2} + 3 x^{2} y + x y^{3} + 3 x y^{2} + y^{3}$"
      ],
      "text/plain": [
       "x**4 + 3*x**3*y + x**3 + 3*x**2*y**2 + 3*x**2*y + x*y**3 + 3*x*y**2 + y**3"
      ]
     },
     "execution_count": 30,
     "metadata": {},
     "output_type": "execute_result"
    }
   ],
   "source": [
    "sym.expand(eq)"
   ]
  },
  {
   "cell_type": "markdown",
   "metadata": {},
   "source": [
    "Lets try to solve a differential equation, we start defing two symbols that are actually functions"
   ]
  },
  {
   "cell_type": "code",
   "execution_count": 31,
   "metadata": {},
   "outputs": [],
   "source": [
    "f, g = sym.symbols('f g', cls=sym.Function)"
   ]
  },
  {
   "cell_type": "markdown",
   "metadata": {},
   "source": [
    "Now a differential equation for $f(x)$ could be defined as: "
   ]
  },
  {
   "cell_type": "code",
   "execution_count": 32,
   "metadata": {},
   "outputs": [
    {
     "data": {
      "text/latex": [
       "$\\displaystyle f{\\left(x \\right)} - 2 \\frac{d}{d x} f{\\left(x \\right)} + \\frac{d^{2}}{d x^{2}} f{\\left(x \\right)} = \\sin{\\left(x \\right)}$"
      ],
      "text/plain": [
       "Eq(f(x) - 2*Derivative(f(x), x) + Derivative(f(x), (x, 2)), sin(x))"
      ]
     },
     "execution_count": 32,
     "metadata": {},
     "output_type": "execute_result"
    }
   ],
   "source": [
    "diffeq = sym.Eq(f(x).diff(x, x) - 2*f(x).diff(x) + f(x), sym.sin(x))\n",
    "diffeq"
   ]
  },
  {
   "cell_type": "code",
   "execution_count": 33,
   "metadata": {},
   "outputs": [
    {
     "data": {
      "text/latex": [
       "$\\displaystyle f{\\left(x \\right)} = \\left(C_{1} + C_{2} x\\right) e^{x} + \\frac{\\cos{\\left(x \\right)}}{2}$"
      ],
      "text/plain": [
       "Eq(f(x), (C1 + C2*x)*exp(x) + cos(x)/2)"
      ]
     },
     "execution_count": 33,
     "metadata": {},
     "output_type": "execute_result"
    }
   ],
   "source": [
    "sym.dsolve(diffeq, f(x))"
   ]
  },
  {
   "cell_type": "markdown",
   "metadata": {},
   "source": [
    "As expected, there are two arbitrary constants in the solution to the differential equation above"
   ]
  },
  {
   "cell_type": "markdown",
   "metadata": {},
   "source": [
    "#### Pandas"
   ]
  },
  {
   "cell_type": "markdown",
   "metadata": {},
   "source": [
    "Pandas is the last library that we will test in for the introduction. Pandas is a library for Data Analysis, it is robust enough to suppport data from csv, "
   ]
  },
  {
   "cell_type": "code",
   "execution_count": 34,
   "metadata": {},
   "outputs": [],
   "source": [
    "import pandas as pd"
   ]
  },
  {
   "cell_type": "code",
   "execution_count": 35,
   "metadata": {},
   "outputs": [],
   "source": [
    "#education=pd.read_json('http://data.undp.org/resource/mvtz-nsye.json')"
   ]
  },
  {
   "cell_type": "code",
   "execution_count": 36,
   "metadata": {},
   "outputs": [],
   "source": [
    "#education"
   ]
  },
  {
   "cell_type": "code",
   "execution_count": 37,
   "metadata": {},
   "outputs": [],
   "source": [
    "#education.dtypes"
   ]
  },
  {
   "cell_type": "code",
   "execution_count": 38,
   "metadata": {},
   "outputs": [],
   "source": [
    "#education.describe()"
   ]
  },
  {
   "cell_type": "code",
   "execution_count": 39,
   "metadata": {},
   "outputs": [],
   "source": [
    "#education['name'].head()"
   ]
  },
  {
   "cell_type": "code",
   "execution_count": 40,
   "metadata": {},
   "outputs": [],
   "source": [
    "#education[['name','_2012_hdi_rank']].head()"
   ]
  },
  {
   "cell_type": "code",
   "execution_count": 41,
   "metadata": {},
   "outputs": [],
   "source": [
    "#education[['name','_2012_hdi_rank']].tail()"
   ]
  },
  {
   "cell_type": "code",
   "execution_count": 42,
   "metadata": {},
   "outputs": [],
   "source": [
    "#education._2005_2010_adult_literacy_rate.hist(bins=15)\n",
    "#plt.title(\"2005 2010 Adult Literacy Rate\")\n",
    "#plt.ylabel('count of countries')\n",
    "#plt.xlabel('%');"
   ]
  },
  {
   "cell_type": "markdown",
   "metadata": {},
   "source": [
    "This concludes an quick overview of the most important libraries for scientific computing with Python. For the next lesson we will explore step by step the basics of Python language."
   ]
  }
 ],
 "metadata": {
  "kernelspec": {
   "display_name": "Python 3",
   "language": "python",
   "name": "python3"
  },
  "language_info": {
   "codemirror_mode": {
    "name": "ipython",
    "version": 3
   },
   "file_extension": ".py",
   "mimetype": "text/x-python",
   "name": "python",
   "nbconvert_exporter": "python",
   "pygments_lexer": "ipython3",
   "version": "3.5.2"
  }
 },
 "nbformat": 4,
 "nbformat_minor": 1
}
